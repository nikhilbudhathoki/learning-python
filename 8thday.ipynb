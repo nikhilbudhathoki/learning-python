{
 "cells": [
  {
   "cell_type": "markdown",
   "id": "8392f569-5781-4986-91c3-4ce9a2013f68",
   "metadata": {},
   "source": [
    "# NUMPY"
   ]
  },
  {
   "cell_type": "markdown",
   "id": "b8a7423e-5a20-4d2c-a4c7-84309e7505f9",
   "metadata": {},
   "source": [
    "### for numerical python"
   ]
  },
  {
   "cell_type": "markdown",
   "id": "7f1d04c1-cd8c-46aa-ac6e-097a82433919",
   "metadata": {},
   "source": [
    "### mean and average and other mahtematucal in data "
   ]
  },
  {
   "cell_type": "markdown",
   "id": "fa1d47d4-574c-4314-b141-dd696023368f",
   "metadata": {},
   "source": [
    "### It is similiear ot list but it can operate easily on large data  and have effiecient strage"
   ]
  },
  {
   "cell_type": "markdown",
   "id": "d04260f2-5076-46cc-b2d0-b9a452ac4a14",
   "metadata": {},
   "source": [
    "### IT is very efficient as the data grows larger in size "
   ]
  },
  {
   "cell_type": "code",
   "execution_count": 7,
   "id": "e0bd0e95-4e87-48fb-8b81-71f1216f06c2",
   "metadata": {},
   "outputs": [
    {
     "data": {
      "text/plain": [
       "'1.26.4'"
      ]
     },
     "execution_count": 7,
     "metadata": {},
     "output_type": "execute_result"
    }
   ],
   "source": [
    "import numpy as np\n",
    "numpy.__version__\n",
    "np.__version__"
   ]
  },
  {
   "cell_type": "markdown",
   "id": "2dcfc39a-1d67-4bce-805a-a2d70983e9a7",
   "metadata": {},
   "source": [
    "### CREATING AN ARRAY FROM LISTS"
   ]
  },
  {
   "cell_type": "code",
   "execution_count": 12,
   "id": "c082230c-0d67-4c9a-8642-491d685d8e5e",
   "metadata": {},
   "outputs": [
    {
     "name": "stdout",
     "output_type": "stream",
     "text": [
      "['1' '2' 'a' '4' '5']\n",
      "<class 'numpy.ndarray'>\n"
     ]
    }
   ],
   "source": [
    "my_arr=np.array([1,2,4,4,5])\n",
    "print(my_arr)\n",
    "print(type(my_arr))\n",
    "#nd is nth dimensional \n",
    "\n"
   ]
  },
  {
   "cell_type": "markdown",
   "id": "6244de20-2a9c-46e3-a958-aa2f9efe9534",
   "metadata": {},
   "source": [
    "### Using many data types are not preferred"
   ]
  },
  {
   "cell_type": "code",
   "execution_count": 14,
   "id": "7161263c-e79d-476e-a840-46dd81de6140",
   "metadata": {},
   "outputs": [
    {
     "name": "stdout",
     "output_type": "stream",
     "text": [
      "['1' '2' 'a' 'b']\n"
     ]
    }
   ],
   "source": [
    "#if we use many data types it changes all the member to higher data types implicitly\n",
    "new=[1,2,'a','b']\n",
    "new_array=np.array(new)\n",
    "print((new_array))\n"
   ]
  },
  {
   "cell_type": "code",
   "execution_count": 16,
   "id": "09f533cd-9781-47cf-8dc6-e3aff6785b3b",
   "metadata": {},
   "outputs": [],
   "source": [
    "#dtype U32 is considered as string which is usde in dtype='U32'\n",
    "#\n"
   ]
  },
  {
   "cell_type": "markdown",
   "id": "e21ffb01-c53e-4989-8d43-7d4612c1fc22",
   "metadata": {},
   "source": [
    "### Changing the datatype from the keyword dtype"
   ]
  },
  {
   "cell_type": "code",
   "execution_count": 28,
   "id": "c2f755f3-3a4f-42c1-bbf7-6f42a8ff3ba0",
   "metadata": {},
   "outputs": [
    {
     "name": "stdout",
     "output_type": "stream",
     "text": [
      "[1.   3.33 4.44 3.  ]\n",
      "['1' '3.33' '4.44' '3']\n"
     ]
    }
   ],
   "source": [
    "n=np.array([1,3.33,4.44,3],dtype='float16')\n",
    "print(n)\n",
    "n=np.array([1,3.33,4.44,3],dtype='U32')\n",
    "print(n)"
   ]
  },
  {
   "cell_type": "code",
   "execution_count": null,
   "id": "03db7708-bc03-4111-922c-ccefea1837bd",
   "metadata": {},
   "outputs": [],
   "source": []
  },
  {
   "cell_type": "code",
   "execution_count": null,
   "id": "504905e6-f546-4d96-97ae-44d320fb9f94",
   "metadata": {},
   "outputs": [],
   "source": [
    "#"
   ]
  },
  {
   "cell_type": "code",
   "execution_count": 27,
   "id": "af1f7ba7-cbad-4c7b-8a3d-a504207462a1",
   "metadata": {},
   "outputs": [
    {
     "data": {
      "text/plain": [
       "array([[1, 2, 3],\n",
       "       [4, 5, 6],\n",
       "       [7, 8, 9]])"
      ]
     },
     "execution_count": 27,
     "metadata": {},
     "output_type": "execute_result"
    }
   ],
   "source": [
    "np.array([\n",
    "    [1,2,3],\n",
    "    [4,5,6],\n",
    "    [7,8,9]\n",
    "])\n"
   ]
  },
  {
   "cell_type": "markdown",
   "id": "d1ab5c4a-b2a2-41d8-877b-88bc2451a622",
   "metadata": {},
   "source": [
    "### CREATING AN ARRAY OF ZEROS WITH LENGTH"
   ]
  },
  {
   "cell_type": "code",
   "execution_count": 29,
   "id": "dff91c61-4011-464e-a64c-1d86e09ddc90",
   "metadata": {},
   "outputs": [
    {
     "data": {
      "text/plain": [
       "array([0, 0, 0, 0, 0])"
      ]
     },
     "execution_count": 29,
     "metadata": {},
     "output_type": "execute_result"
    }
   ],
   "source": [
    "np.zeros(5,dtype=int)"
   ]
  },
  {
   "cell_type": "markdown",
   "id": "f4ba674b-874c-47a6-9d6e-34ee5bf7b16a",
   "metadata": {},
   "source": [
    "### CREATING THIRD DIMENSIONAL ARRAY WITH ONES"
   ]
  },
  {
   "cell_type": "code",
   "execution_count": 30,
   "id": "ea12efda-af64-4273-9b60-3c01cbc30f87",
   "metadata": {},
   "outputs": [
    {
     "data": {
      "text/plain": [
       "array([[1., 1., 1., 1., 1.],\n",
       "       [1., 1., 1., 1., 1.],\n",
       "       [1., 1., 1., 1., 1.]])"
      ]
     },
     "execution_count": 30,
     "metadata": {},
     "output_type": "execute_result"
    }
   ],
   "source": [
    "np.ones((3,5),dtype=float)#syntax np.num((rows,column),dtype=datatype))"
   ]
  },
  {
   "cell_type": "markdown",
   "id": "e6a83abf-d877-4480-95b5-8becc85262aa",
   "metadata": {},
   "source": [
    "### Only zero and one are in the library to use"
   ]
  },
  {
   "cell_type": "markdown",
   "id": "b77e301f-8fbe-4d12-81dc-f49cee4a9301",
   "metadata": {},
   "source": [
    "### Making an array to use range of array from 1 to 30"
   ]
  },
  {
   "cell_type": "code",
   "execution_count": 34,
   "id": "eb2eceda-32e2-41bc-8d0d-f6bf81666d6a",
   "metadata": {},
   "outputs": [
    {
     "data": {
      "text/plain": [
       "array([ 1,  3,  5,  7,  9, 11, 13, 15, 17, 19])"
      ]
     },
     "execution_count": 34,
     "metadata": {},
     "output_type": "execute_result"
    }
   ],
   "source": [
    "np.arange(1,21,2)#arange=range of array"
   ]
  },
  {
   "cell_type": "markdown",
   "id": "168789e0-a87b-415b-b39d-0be9f312714b",
   "metadata": {},
   "source": [
    "### Linspace() -Helps to divide certain digits into parts"
   ]
  },
  {
   "cell_type": "code",
   "execution_count": 35,
   "id": "5fbd9864-f013-454b-a46f-c0a47143e5ba",
   "metadata": {},
   "outputs": [
    {
     "data": {
      "text/plain": [
       "array([1., 2., 3., 4., 5.])"
      ]
     },
     "execution_count": 35,
     "metadata": {},
     "output_type": "execute_result"
    }
   ],
   "source": [
    "np.linspace(1,5,5)#(start,end(included),parts)"
   ]
  },
  {
   "cell_type": "code",
   "execution_count": 37,
   "id": "2e858c8c-ce6a-4b2e-bb26-f47f51a03977",
   "metadata": {},
   "outputs": [
    {
     "data": {
      "text/plain": [
       "array([[0.09370012, 0.71925163, 0.58282652],\n",
       "       [0.74559702, 0.69492279, 0.16278081],\n",
       "       [0.98972831, 0.22940795, 0.72949991]])"
      ]
     },
     "execution_count": 37,
     "metadata": {},
     "output_type": "execute_result"
    }
   ],
   "source": [
    "np.random.random((3,3))#it choosses an array of random digits from 0 to 1 in rows3 and column 3"
   ]
  },
  {
   "cell_type": "code",
   "execution_count": 38,
   "id": "a3746667-67cf-4d03-8053-087f0c64dae7",
   "metadata": {},
   "outputs": [
    {
     "data": {
      "text/plain": [
       "array([[0.74375854, 0.2660427 , 0.9010402 ]])"
      ]
     },
     "execution_count": 38,
     "metadata": {},
     "output_type": "execute_result"
    }
   ],
   "source": [
    "np.random.random((1,3))"
   ]
  },
  {
   "cell_type": "markdown",
   "id": "e6336d11-a515-4001-8afd-915e86f21c14",
   "metadata": {},
   "source": [
    "### Normal distribution:symetrical graph "
   ]
  },
  {
   "cell_type": "code",
   "execution_count": 40,
   "id": "28d84548-6512-4f55-ab66-35e1f1de3091",
   "metadata": {},
   "outputs": [
    {
     "data": {
      "text/plain": [
       "array([[ 1.32851358,  0.12594966, -0.63586182],\n",
       "       [-0.81974854,  0.91750694, -1.18087439],\n",
       "       [ 1.14915537,  0.73367328,  1.09481731]])"
      ]
     },
     "execution_count": 40,
     "metadata": {},
     "output_type": "execute_result"
    }
   ],
   "source": [
    "np.random.normal(0,1,(3,3))"
   ]
  },
  {
   "cell_type": "markdown",
   "id": "5996af71-edee-4b4b-a7a2-04d59966e1c1",
   "metadata": {},
   "source": [
    "### RAMDOM WITH INTEGER AND RANGE"
   ]
  },
  {
   "cell_type": "code",
   "execution_count": 41,
   "id": "24d7b15b-1cce-4e40-9842-5a8b65be85da",
   "metadata": {},
   "outputs": [
    {
     "data": {
      "text/plain": [
       "array([[6, 8, 6],\n",
       "       [1, 9, 4],\n",
       "       [1, 4, 6]])"
      ]
     },
     "execution_count": 41,
     "metadata": {},
     "output_type": "execute_result"
    }
   ],
   "source": [
    "np.random.randint(0,10,(3,3))#10 exclusive"
   ]
  },
  {
   "cell_type": "code",
   "execution_count": 45,
   "id": "86377450-2a16-4c31-a5dd-055a0053b67a",
   "metadata": {},
   "outputs": [
    {
     "data": {
      "text/plain": [
       "array([[11,  1, 11, 14],\n",
       "       [16, 15,  5,  5]])"
      ]
     },
     "execution_count": 45,
     "metadata": {},
     "output_type": "execute_result"
    }
   ],
   "source": [
    "np.random.randint(1,20,(2,4))"
   ]
  },
  {
   "cell_type": "markdown",
   "id": "cb23ba1a-6808-4632-b3b9-db607611a0b9",
   "metadata": {},
   "source": [
    "### Identity or symmetrical matrix"
   ]
  },
  {
   "cell_type": "code",
   "execution_count": 46,
   "id": "22aae1c9-20f1-4e77-871c-1523716d9e75",
   "metadata": {},
   "outputs": [
    {
     "data": {
      "text/plain": [
       "array([[1., 0., 0., 0.],\n",
       "       [0., 1., 0., 0.],\n",
       "       [0., 0., 1., 0.],\n",
       "       [0., 0., 0., 1.]])"
      ]
     },
     "execution_count": 46,
     "metadata": {},
     "output_type": "execute_result"
    }
   ],
   "source": [
    "np.eye(4)#both row and column sizes are same and arguement is for both row and xolumn"
   ]
  },
  {
   "cell_type": "code",
   "execution_count": 48,
   "id": "7cb2b665-0fc7-412b-95b2-3d68ff72318f",
   "metadata": {},
   "outputs": [
    {
     "data": {
      "text/plain": [
       "array([6.23042070e-307, 4.67296746e-307, 1.69121096e-306, 3.33772792e-307,\n",
       "       6.23047503e-307, 2.22526399e-307, 6.23053614e-307, 7.56592338e-307,\n",
       "       9.34588061e-307, 3.62651150e-317])"
      ]
     },
     "execution_count": 48,
     "metadata": {},
     "output_type": "execute_result"
    }
   ],
   "source": [
    "np.empty(10)"
   ]
  },
  {
   "cell_type": "code",
   "execution_count": null,
   "id": "53ba3a82-f72a-4ca0-9e4f-9b02eff4a3e6",
   "metadata": {},
   "outputs": [],
   "source": []
  },
  {
   "cell_type": "markdown",
   "id": "02cba6f9-59ff-4b7b-9005-8dce0abca831",
   "metadata": {},
   "source": [
    "# NUMPY DATATYPE"
   ]
  },
  {
   "cell_type": "markdown",
   "id": "3b5f09cb-57cc-4b74-b2ee-cd85f291cf4b",
   "metadata": {},
   "source": [
    "### TRY TO SEPERATE INT8 INT16 INT32 AND OTHERS\n",
    "uint for unsigned \n",
    "float_ for float\n",
    "complex_ for complex number"
   ]
  },
  {
   "cell_type": "code",
   "execution_count": null,
   "id": "c6570b7e-f9d0-42ef-9ae0-05933029e677",
   "metadata": {},
   "outputs": [],
   "source": []
  },
  {
   "cell_type": "markdown",
   "id": "9f1a27a4-d573-4cf4-bf1a-28eace89c378",
   "metadata": {},
   "source": [
    "### two dimensional is mostly used"
   ]
  },
  {
   "cell_type": "markdown",
   "id": "47fed324-b95e-4be5-9e69-1140c385f391",
   "metadata": {},
   "source": [
    "### seed is used on the top of the random to ensure the value does not change"
   ]
  },
  {
   "cell_type": "code",
   "execution_count": 80,
   "id": "4a5cdb91-3b4f-4083-9be0-7ed583e2bda0",
   "metadata": {},
   "outputs": [
    {
     "data": {
      "text/plain": [
       "array([[0.5488135 , 0.71518937, 0.60276338, 0.54488318],\n",
       "       [0.4236548 , 0.64589411, 0.43758721, 0.891773  ],\n",
       "       [0.96366276, 0.38344152, 0.79172504, 0.52889492],\n",
       "       [0.56804456, 0.92559664, 0.07103606, 0.0871293 ]])"
      ]
     },
     "execution_count": 80,
     "metadata": {},
     "output_type": "execute_result"
    }
   ],
   "source": [
    "np.random.seed(0)\n",
    "np.random.random((4,4))\n"
   ]
  },
  {
   "cell_type": "code",
   "execution_count": 84,
   "id": "1057ef45-0c4d-414a-973f-8f6297ed164c",
   "metadata": {},
   "outputs": [
    {
     "name": "stdout",
     "output_type": "stream",
     "text": [
      "[4 4 8 1 2]\n"
     ]
    }
   ],
   "source": [
    "x=np.random.randint(1,10,size=5)\n",
    "print(x)"
   ]
  },
  {
   "cell_type": "code",
   "execution_count": null,
   "id": "302e8d2a-87ab-4293-bb25-69ee515d9cf4",
   "metadata": {},
   "outputs": [],
   "source": []
  }
 ],
 "metadata": {
  "kernelspec": {
   "display_name": "Python 3 (ipykernel)",
   "language": "python",
   "name": "python3"
  },
  "language_info": {
   "codemirror_mode": {
    "name": "ipython",
    "version": 3
   },
   "file_extension": ".py",
   "mimetype": "text/x-python",
   "name": "python",
   "nbconvert_exporter": "python",
   "pygments_lexer": "ipython3",
   "version": "3.11.7"
  }
 },
 "nbformat": 4,
 "nbformat_minor": 5
}

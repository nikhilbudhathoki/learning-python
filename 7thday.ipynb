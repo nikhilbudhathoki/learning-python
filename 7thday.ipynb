{
 "cells": [
  {
   "cell_type": "markdown",
   "id": "db4eb325-07a1-452e-90ef-61ae82cb603d",
   "metadata": {},
   "source": [
    "# OOP FEATURES"
   ]
  },
  {
   "cell_type": "markdown",
   "id": "679a384a-a9c0-423a-860e-6bbc9a8c8e65",
   "metadata": {},
   "source": [
    "## Inheritance:To take needed property of parents by a child (not all)\n",
    "A child class is made from a parent class and child class takes some attributes of parent class\n",
    "It is used when we have to make classes with similiar properties"
   ]
  },
  {
   "cell_type": "code",
   "execution_count": 9,
   "id": "8dba849d-0042-48e8-ac07-6852869dd598",
   "metadata": {},
   "outputs": [
    {
     "name": "stdout",
     "output_type": "stream",
     "text": [
      "<__main__.Rectangle object at 0x0000025D89AF0C50>\n"
     ]
    }
   ],
   "source": [
    "class Rectangle:\n",
    "    def __init__(self,length,breadth):\n",
    "        self.length=length\n",
    "        self.breadth=breadth\n",
    "        area=length*breadth\n",
    "    def get_area(self):\n",
    "        return self.length*self.breadtn\n",
    "s1=Rectangle(1,2)\n",
    "print(s1.get_area())\n"
   ]
  },
  {
   "cell_type": "code",
   "execution_count": 11,
   "id": "18dd8c21-6893-4812-9492-e378c83989a1",
   "metadata": {},
   "outputs": [
    {
     "ename": "NameError",
     "evalue": "name 'length' is not defined",
     "output_type": "error",
     "traceback": [
      "\u001b[1;31m---------------------------------------------------------------------------\u001b[0m",
      "\u001b[1;31mNameError\u001b[0m                                 Traceback (most recent call last)",
      "Cell \u001b[1;32mIn[11], line 8\u001b[0m\n\u001b[0;32m      6\u001b[0m         \u001b[38;5;28;01mreturn\u001b[39;00m length\u001b[38;5;241m*\u001b[39mbreadth\n\u001b[0;32m      7\u001b[0m a\u001b[38;5;241m=\u001b[39mParent(\u001b[38;5;241m1\u001b[39m,\u001b[38;5;241m2\u001b[39m)\n\u001b[1;32m----> 8\u001b[0m \u001b[38;5;28mprint\u001b[39m(a\u001b[38;5;241m.\u001b[39mget_area())\n",
      "Cell \u001b[1;32mIn[11], line 6\u001b[0m, in \u001b[0;36mParent.get_area\u001b[1;34m(self)\u001b[0m\n\u001b[0;32m      5\u001b[0m \u001b[38;5;28;01mdef\u001b[39;00m \u001b[38;5;21mget_area\u001b[39m(\u001b[38;5;28mself\u001b[39m):\n\u001b[1;32m----> 6\u001b[0m     \u001b[38;5;28;01mreturn\u001b[39;00m length\u001b[38;5;241m*\u001b[39mbreadth\n",
      "\u001b[1;31mNameError\u001b[0m: name 'length' is not defined"
     ]
    }
   ],
   "source": [
    "class Parent:\n",
    "    def  __init__(self,length,breadth):\n",
    "        self.length=length\n",
    "        self.breadth=breadth\n",
    "    def get_area(self):\n",
    "        return length*breadth\n",
    "a=Parent(1,2)\n",
    "print(a.get_area())\n",
    "#making a child class from a parent class"
   ]
  },
  {
   "cell_type": "code",
   "execution_count": 2,
   "id": "ee8817f8-593e-44de-a276-0beb456402f8",
   "metadata": {},
   "outputs": [
    {
     "ename": "NameError",
     "evalue": "name 'area' is not defined",
     "output_type": "error",
     "traceback": [
      "\u001b[1;31m---------------------------------------------------------------------------\u001b[0m",
      "\u001b[1;31mNameError\u001b[0m                                 Traceback (most recent call last)",
      "Cell \u001b[1;32mIn[2], line 6\u001b[0m\n\u001b[0;32m      4\u001b[0m         \u001b[38;5;28mself\u001b[39m\u001b[38;5;241m.\u001b[39mbreadth\u001b[38;5;241m=\u001b[39mbreadth\n\u001b[0;32m      5\u001b[0m         \u001b[38;5;28;01mreturn\u001b[39;00m length\u001b[38;5;241m*\u001b[39mbreadth\n\u001b[1;32m----> 6\u001b[0m area(\u001b[38;5;241m1\u001b[39m,\u001b[38;5;241m2\u001b[39m)\n",
      "\u001b[1;31mNameError\u001b[0m: name 'area' is not defined"
     ]
    }
   ],
   "source": [
    "class Parent:\n",
    "    def  __init__area(self,length,breadth):\n",
    "        self.length=length\n",
    "        self.breadth=breadth\n",
    "        return length*breadth\n",
    "area(1,2)\n",
    "#making a child class from a parent class"
   ]
  },
  {
   "cell_type": "code",
   "execution_count": 7,
   "id": "2063b435-a502-492b-a767-33680527c62a",
   "metadata": {},
   "outputs": [
    {
     "name": "stdout",
     "output_type": "stream",
     "text": [
      "explore() method from class B\n",
      "explore() method from class A\n"
     ]
    }
   ],
   "source": [
    "class A:\n",
    "    def explore(self):\n",
    "        print(\"explore() method from class A\")\n",
    "class B(A):\n",
    "    def explore(self):\n",
    "        print(\"explore() method from class B\")#this is called overriding where a \n",
    "        #property of parent does not fit to the child and we change it\n",
    "b_obj=B()\n",
    "a_obj=A()\n",
    "b_obj.explore()\n",
    "a_obj.explore()\n"
   ]
  },
  {
   "cell_type": "code",
   "execution_count": null,
   "id": "c8aabe89-77b5-4e2c-941b-1d81a32c8f72",
   "metadata": {},
   "outputs": [],
   "source": [
    "class A:\n",
    "    def"
   ]
  },
  {
   "cell_type": "code",
   "execution_count": 8,
   "id": "9baf3eab-72a3-4ab9-bb3a-097aa43c694e",
   "metadata": {},
   "outputs": [
    {
     "name": "stdout",
     "output_type": "stream",
     "text": [
      "explore() method from class A\n",
      "explore() method from class B\n"
     ]
    }
   ],
   "source": [
    "class A:\n",
    "    def explore(self):\n",
    "        print(\"explore() method from class A\")\n",
    "class B(A):\n",
    "    def explore(self):\n",
    "        super().explore()\n",
    "        print(\"explore() method from class B\")#this is called overriding where a \n",
    "        #property of parent does not fit to the child and we change it\n",
    "b_obj=B()\n",
    "\n",
    "b_obj.explore()\n",
    "\n"
   ]
  },
  {
   "cell_type": "markdown",
   "id": "d76b415a-6a04-4114-b21f-71183ad587e4",
   "metadata": {},
   "source": [
    "# COMPREHENSION"
   ]
  },
  {
   "cell_type": "markdown",
   "id": "272287b6-8e20-4ffd-bafe-c1917c2c640f",
   "metadata": {},
   "source": [
    "## tHERE ARE 3 TYPES:lIST,SET AND DICT COMPREHENSION"
   ]
  },
  {
   "cell_type": "code",
   "execution_count": 16,
   "id": "31b9e883-f693-4f4d-8a8c-f6ceb2e1f51f",
   "metadata": {},
   "outputs": [
    {
     "name": "stdout",
     "output_type": "stream",
     "text": [
      "1\n",
      "4\n",
      "9\n",
      "16\n",
      "25\n",
      "36\n",
      "49\n",
      "64\n",
      "81\n"
     ]
    }
   ],
   "source": [
    "num=[1,2,3,4,5,6,7,8,9]\n",
    "for a in num:\n",
    "    print(a*a)\n"
   ]
  },
  {
   "cell_type": "code",
   "execution_count": 17,
   "id": "1a657810-553a-42fc-a550-9513b76ca099",
   "metadata": {},
   "outputs": [
    {
     "name": "stdout",
     "output_type": "stream",
     "text": [
      "1\n",
      "4\n",
      "9\n",
      "16\n",
      "25\n",
      "36\n",
      "49\n",
      "64\n",
      "81\n"
     ]
    }
   ],
   "source": [
    "for a in range(1,10):\n",
    "    print(a**2)"
   ]
  },
  {
   "cell_type": "code",
   "execution_count": 22,
   "id": "db9ed4d0-e360-4673-be64-2ab09c3620b3",
   "metadata": {},
   "outputs": [
    {
     "name": "stdout",
     "output_type": "stream",
     "text": [
      "[1, 4, 9, 16, 25, 36, 49, 64, 81]\n"
     ]
    }
   ],
   "source": [
    "print([i*i for i in range(1,10)])"
   ]
  },
  {
   "cell_type": "code",
   "execution_count": 24,
   "id": "efadc737-cc7e-4bf2-9465-cf0cd437e9c7",
   "metadata": {},
   "outputs": [
    {
     "name": "stdout",
     "output_type": "stream",
     "text": [
      "[1, 9, 25, 49, 81]\n"
     ]
    }
   ],
   "source": [
    "sq_odd=[i*i for i in range(1,10) if i%2!=0]\n",
    "print(sq_odd)"
   ]
  },
  {
   "cell_type": "code",
   "execution_count": 26,
   "id": "e6612112-e7e9-43da-9044-091cf5a3fc92",
   "metadata": {},
   "outputs": [
    {
     "name": "stdout",
     "output_type": "stream",
     "text": [
      "[4, 16, 36, 64, 100, 144, 196, 256, 324, 400]\n"
     ]
    }
   ],
   "source": [
    "even=[m*m for m in range(1,21) if m%2==0]\n",
    "print(even)"
   ]
  },
  {
   "cell_type": "code",
   "execution_count": 27,
   "id": "5e9dd4bb-b342-4161-b3ca-fba80496f4f9",
   "metadata": {},
   "outputs": [
    {
     "name": "stdout",
     "output_type": "stream",
     "text": [
      "[8, 64]\n"
     ]
    }
   ],
   "source": [
    "cube=[i**3 for i in range(1,6) if i%2==0]\n",
    "print(cube)"
   ]
  },
  {
   "cell_type": "code",
   "execution_count": 34,
   "id": "7e702652-865b-4e6f-9b55-92efd80de817",
   "metadata": {},
   "outputs": [
    {
     "name": "stdout",
     "output_type": "stream",
     "text": [
      "[0, 1, 4, 3, 16, 5, 36, 7, 64, 9]\n"
     ]
    }
   ],
   "source": [
    "sqoddeven=[i**2 if i%2==0 else i  for i in range(10)]\n",
    "print(sqoddeven)"
   ]
  },
  {
   "cell_type": "code",
   "execution_count": 44,
   "id": "2c2adcc4-ff97-4032-bad8-a2abef8851f1",
   "metadata": {},
   "outputs": [
    {
     "ename": "SyntaxError",
     "evalue": "invalid syntax. Perhaps you forgot a comma? (766561556.py, line 1)",
     "output_type": "error",
     "traceback": [
      "\u001b[1;36m  Cell \u001b[1;32mIn[44], line 1\u001b[1;36m\u001b[0m\n\u001b[1;33m    sqcube=[i**3 if i%2==0  else i**2  i%2!=0 for i in range(1,11)]\u001b[0m\n\u001b[1;37m                                 ^\u001b[0m\n\u001b[1;31mSyntaxError\u001b[0m\u001b[1;31m:\u001b[0m invalid syntax. Perhaps you forgot a comma?\n"
     ]
    }
   ],
   "source": [
    "sqcube=[i**3 if i%2==0  else i**2  i%2!=0 for i in range(1,11)]\n",
    "print(sqcube)"
   ]
  },
  {
   "cell_type": "code",
   "execution_count": 35,
   "id": "e0736b0b-8e85-4a88-ad4f-bdbcc497f95e",
   "metadata": {},
   "outputs": [
    {
     "name": "stdout",
     "output_type": "stream",
     "text": [
      "[0, 6, 12, 18]\n"
     ]
    }
   ],
   "source": [
    "lst=[]\n",
    "for i in range(20):\n",
    "    if i%2==0:\n",
    "        if i%3==0:\n",
    "            lst.append(i)\n",
    "print(lst)"
   ]
  },
  {
   "cell_type": "code",
   "execution_count": 49,
   "id": "d824b458-564d-42d2-bba0-16ace1d5f775",
   "metadata": {},
   "outputs": [
    {
     "name": "stdout",
     "output_type": "stream",
     "text": [
      "[1, 8, 9, 64, 25, 216, 49, 512, 81, 1000]\n"
     ]
    }
   ],
   "source": [
    "sqcube=[i**3 if i%2==0 else i**2 for i in range(1,11)]\n",
    "print(sqcube)"
   ]
  },
  {
   "cell_type": "code",
   "execution_count": 51,
   "id": "c0fddafb-58d5-4a03-b9f3-104ec023e699",
   "metadata": {},
   "outputs": [
    {
     "name": "stdout",
     "output_type": "stream",
     "text": [
      "['Kdjfk', 'KK']\n"
     ]
    }
   ],
   "source": [
    "#capatalize in list\n",
    "lst=[]\n",
    "for name in ['Kdjfk',\"KK\"]:lst.append(name)\n",
    "print(lst)\n"
   ]
  },
  {
   "cell_type": "markdown",
   "id": "709cfad0-343d-41cb-a37e-5a83c7f3c405",
   "metadata": {},
   "source": [
    "# Pythagorus triplets using sets to remove duplication"
   ]
  },
  {
   "cell_type": "code",
   "execution_count": 56,
   "id": "17033c06-9163-4272-98ed-bbfdda96488e",
   "metadata": {},
   "outputs": [
    {
     "name": "stdout",
     "output_type": "stream",
     "text": [
      "{(12, 5, 13), (4, 3, 5), (6, 8, 10), (12, 9, 15), (15, 8, 17), (3, 4, 5), (8, 15, 17), (9, 12, 15), (8, 6, 10), (5, 12, 13)}\n"
     ]
    }
   ],
   "source": [
    "p={(x,y,z) for x in range(1,20) for  y in range(1,20) for z in range(1,20) if (x**2+y**2)==z**2}\n",
    "print(p)"
   ]
  },
  {
   "cell_type": "code",
   "execution_count": null,
   "id": "390ca6c4-daa8-4adf-9aa1-ca7ee57a827b",
   "metadata": {},
   "outputs": [],
   "source": [
    "n={(a,b,c) for a in range(-10000,10000) for b in range(-10000,10000) for c in range(-10000,10000) if a+b+c==1}\n",
    "print(n)"
   ]
  },
  {
   "cell_type": "code",
   "execution_count": null,
   "id": "109d3a20-0852-48f5-a060-372e0116bff2",
   "metadata": {},
   "outputs": [],
   "source": []
  }
 ],
 "metadata": {
  "kernelspec": {
   "display_name": "Python 3 (ipykernel)",
   "language": "python",
   "name": "python3"
  },
  "language_info": {
   "codemirror_mode": {
    "name": "ipython",
    "version": 3
   },
   "file_extension": ".py",
   "mimetype": "text/x-python",
   "name": "python",
   "nbconvert_exporter": "python",
   "pygments_lexer": "ipython3",
   "version": "3.11.7"
  }
 },
 "nbformat": 4,
 "nbformat_minor": 5
}

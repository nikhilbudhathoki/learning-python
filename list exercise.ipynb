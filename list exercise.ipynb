{
 "cells": [
  {
   "cell_type": "markdown",
   "id": "864a2919-3172-4ad0-b813-84c8648b8845",
   "metadata": {},
   "source": [
    "# Greet friends with names in list"
   ]
  },
  {
   "cell_type": "code",
   "execution_count": 4,
   "id": "fe8bb3e9-0691-49f9-9f18-6ab1c2df3392",
   "metadata": {},
   "outputs": [
    {
     "name": "stdout",
     "output_type": "stream",
     "text": [
      "raj\n",
      "Hello ! Namaaste raj\n"
     ]
    }
   ],
   "source": [
    "names=['raj','pratik','pravin','badshah']\n",
    "print(names[0])\n",
    "print(\"Hello ! Namaaste\",names[0])"
   ]
  },
  {
   "cell_type": "code",
   "execution_count": null,
   "id": "b2ee09bc-6352-4b7e-badc-fb12b9e4aa9b",
   "metadata": {},
   "outputs": [],
   "source": [
    "\n",
    "\n"
   ]
  },
  {
   "cell_type": "markdown",
   "id": "24e4a268-ce12-4968-94ee-26e887013c99",
   "metadata": {},
   "source": [
    "## Guests list in a dinner"
   ]
  },
  {
   "cell_type": "code",
   "execution_count": 65,
   "id": "c8bf651c-2d6f-4bc0-8a1d-70c8f40bac48",
   "metadata": {},
   "outputs": [
    {
     "name": "stdout",
     "output_type": "stream",
     "text": [
      "old list is ['bill', 'mark', 'abhi']\n",
      "\n",
      "So Bill can not come\n",
      "\n",
      "New list is ['bruh', 'mark', 'abhi']\n",
      "So new list is ['ramen', 'bruh', 'ram', 'mark', 'abhi', 'bhanu']\n",
      "Ramen want to take care of his daughter who is sick\n",
      "new list is ['bruh', 'ram', 'mark', 'abhi', 'bhanu']\n",
      "abhi cant come because he has started a new business right noe\n",
      "new list is  ['bruh', 'ram', 'mark', 'bhanu']\n",
      "bhanu can't come because he want to go to cinmea\n",
      "New list is  ['bruh', 'ram', 'mark']\n",
      "So mark company's server is just down so he can not come\n",
      "The last list of people that are coming is ['bruh', 'ram']\n",
      "So people coming to dinner are 2\n"
     ]
    },
    {
     "ename": "NameError",
     "evalue": "name 'dinner' is not defined",
     "output_type": "error",
     "traceback": [
      "\u001b[1;31m---------------------------------------------------------------------------\u001b[0m",
      "\u001b[1;31mNameError\u001b[0m                                 Traceback (most recent call last)",
      "Cell \u001b[1;32mIn[65], line 25\u001b[0m\n\u001b[0;32m     23\u001b[0m \u001b[38;5;28mprint\u001b[39m(\u001b[38;5;124m\"\u001b[39m\u001b[38;5;124mSo people coming to dinner are\u001b[39m\u001b[38;5;124m\"\u001b[39m,\u001b[38;5;28mlen\u001b[39m(dinner))\n\u001b[0;32m     24\u001b[0m \u001b[38;5;28;01mdel\u001b[39;00m dinner\n\u001b[1;32m---> 25\u001b[0m \u001b[38;5;28mprint\u001b[39m(dinner)\n",
      "\u001b[1;31mNameError\u001b[0m: name 'dinner' is not defined"
     ]
    }
   ],
   "source": [
    "#making list\n",
    "dinner=['bill','mark','abhi']\n",
    "print(\"old list is\",dinner)\n",
    "print(\"\\nSo Bill can not come\\n\")\n",
    "dinner[0]='bruh'#removing bill and adding bruh\n",
    "print(\"New list is\",dinner)\n",
    "\n",
    "dinner.insert(0,'ramen')#inserting new member in certain position\n",
    "dinner.insert(2,'ram')\n",
    "dinner.append('bhanu')#appending bhanu to the last position automatically\n",
    "print(\"So new list is\",dinner)\n",
    "print(\"Ramen want to take care of his daughter who is sick\")\n",
    "dinner.pop(0)#deleting remen from list who is first one\n",
    "print(\"new list is\",dinner)\n",
    "dinner.pop(3)\n",
    "print(\"abhi cant come because he has started a new business right noe\")\n",
    "print(\"new list is \",dinner)\n",
    "print(\"bhanu can't come because he want to go to cinmea\")\n",
    "dinner.pop(3)\n",
    "print(\"New list is \",dinner)\n",
    "print(\"So mark company's server is just down so he can not come\")\n",
    "dinner.pop(2)\n",
    "print(\"The last list of people that are coming is\",dinner)\n",
    "print(\"So people coming to dinner are\",len(dinner))#Addressing number of people in list\n",
    "del dinner#deleting list\n",
    "print(dinner)#so the list is deleted"
   ]
  },
  {
   "cell_type": "markdown",
   "id": "8dc174c7-57c5-4a8f-a9be-04578e875aca",
   "metadata": {},
   "source": [
    "## MAking list of places temporary and parmanent sorting"
   ]
  },
  {
   "cell_type": "code",
   "execution_count": 64,
   "id": "847b5457-94ea-4626-96fe-40ee01f7cf92",
   "metadata": {},
   "outputs": [
    {
     "name": "stdout",
     "output_type": "stream",
     "text": [
      "['egypt', 'goa', 'japan', 'paris', 'sagarmatha']\n",
      "['goa', 'sagarmatha', 'paris', 'egypt', 'japan']\n",
      "['sagarmatha', 'paris', 'japan', 'goa', 'egypt']\n",
      "['goa', 'sagarmatha', 'paris', 'egypt', 'japan']\n",
      "['japan', 'egypt', 'paris', 'sagarmatha', 'goa']\n",
      "['goa', 'sagarmatha', 'paris', 'egypt', 'japan']\n",
      "['egypt', 'goa', 'japan', 'paris', 'sagarmatha']\n",
      "['sagarmatha', 'paris', 'japan', 'goa', 'egypt']\n"
     ]
    }
   ],
   "source": [
    "fav=['goa','Sagarmatha','paris','egypt','japan']\n",
    "fav2=[favs.lower() for favs in fav]#making every member lower case to help in sorting\n",
    "print(sorted(fav2))#temporary sort\n",
    "print(fav2)#not changed\n",
    "rev=sorted(fav2,reverse=True)#temporary reverse sorting\n",
    "print(rev)\n",
    "print(fav2)\n",
    "fav2.reverse()#parmanent reversing of the list not reverse sorting\n",
    "print(fav2)\n",
    "fav2.reverse()\n",
    "print(fav2)\n",
    "fav2.sort()#sorting parmanently\n",
    "print(fav2)\n",
    "fav2.sort(reverse=True)#parmanent reverse sorting\n",
    "print(fav2)\n",
    "\n"
   ]
  },
  {
   "cell_type": "code",
   "execution_count": null,
   "id": "e24a83a8-5c23-4668-9a2e-5fa4c3b90f3f",
   "metadata": {},
   "outputs": [],
   "source": []
  },
  {
   "cell_type": "markdown",
   "id": "49b250b8-8e6e-4c51-a87b-5a9f24e566b4",
   "metadata": {},
   "source": [
    "# Every function use"
   ]
  },
  {
   "cell_type": "code",
   "execution_count": 92,
   "id": "89a1f3b0-ac26-4ab2-b23c-9adff3c53ea6",
   "metadata": {},
   "outputs": [
    {
     "name": "stdout",
     "output_type": "stream",
     "text": [
      "['king', 'kight', 'bishop', 'queen', 'rook']\n",
      "king\n",
      "kight is very clever\n",
      "['king', 'kight', 'pawn', 'queen', 'rook']\n",
      "['king', 'kight', 'pawn', 'queen', 'rook', 'bishop']\n",
      "['king', 'kight', 'horse', 'pawn', 'queen', 'rook', 'bishop']\n",
      "['king', 'kight', 'pawn', 'queen', 'rook', 'bishop']\n",
      "['king', 'kight', 'pawn', 'queen', 'bishop']\n",
      "['bishop', 'kight', 'king', 'pawn', 'queen']\n",
      "['queen', 'pawn', 'king', 'kight', 'bishop']\n",
      "['bishop', 'kight', 'king', 'pawn', 'queen']\n",
      "['queen', 'pawn', 'king', 'kight', 'bishop']\n",
      "[9, 5, 3, 1]\n",
      "[5, 7, 3, 2]\n"
     ]
    }
   ],
   "source": [
    "an=['king','kIght','bisHop','Queen','rook']\n",
    "an2=[any.lower() for any in an]\n",
    "print(an2)\n",
    "     #addres every element\n",
    "print(an2[0])\n",
    "print(an2[1],\"is very clever\")\n",
    "#changing element\n",
    "an2[2]='pawn'\n",
    "print(an2)\n",
    "#adding element at last index\n",
    "an2.append('bishop')\n",
    "print(an2)\n",
    "#inserting acc to the index needed\n",
    "an2.insert(2,'horse')\n",
    "print(an2)\n",
    "#Oh no horse and knight are same lets remove it acc to index\n",
    "an2.pop(2)\n",
    "print(an2)\n",
    "#remove acc to string name\n",
    "an2.remove('rook')\n",
    "print(an2)\n",
    "\n",
    "#temp sort and temp rev sort\n",
    "print(sorted(an2))#sort\n",
    "print(sorted(an2,reverse=True))#rev sort\n",
    "\n",
    "#Parmanent sort\n",
    "an2.sort()#sort\n",
    "print(an2)\n",
    "an2.sort(reverse=True)#rev sort\n",
    "print(an2)\n",
    "\n",
    "#reversing the list parmanently\n",
    "l=[1,3,5,9]\n",
    "l.reverse()\n",
    "print(l)\n",
    "\n",
    "#temporary reverse\n",
    "m=[2,3,7,5]\n",
    "print(list(reversed(m)))\n"
   ]
  },
  {
   "cell_type": "code",
   "execution_count": null,
   "id": "2eca4091-87aa-4ff7-8a59-23ccc9bfd3b3",
   "metadata": {},
   "outputs": [],
   "source": []
  }
 ],
 "metadata": {
  "kernelspec": {
   "display_name": "Python 3 (ipykernel)",
   "language": "python",
   "name": "python3"
  },
  "language_info": {
   "codemirror_mode": {
    "name": "ipython",
    "version": 3
   },
   "file_extension": ".py",
   "mimetype": "text/x-python",
   "name": "python",
   "nbconvert_exporter": "python",
   "pygments_lexer": "ipython3",
   "version": "3.11.7"
  }
 },
 "nbformat": 4,
 "nbformat_minor": 5
}

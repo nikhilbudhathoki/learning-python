{
 "cells": [
  {
   "cell_type": "markdown",
   "id": "7d7f6dcc-f9f4-4375-b5e4-3583ac9b181a",
   "metadata": {},
   "source": [
    "# List"
   ]
  },
  {
   "cell_type": "markdown",
   "id": "0016ae49-391f-4c67-a867-9f8db3969728",
   "metadata": {},
   "source": [
    "# .() function"
   ]
  },
  {
   "cell_type": "markdown",
   "id": "a8a3d8e0-23f3-4e89-8caa-e45c9554cfd8",
   "metadata": {},
   "source": [
    "## .remove() function "
   ]
  },
  {
   "cell_type": "code",
   "execution_count": 9,
   "id": "d62cb5e7-8cf0-424a-80bc-93544e575dbe",
   "metadata": {},
   "outputs": [
    {
     "name": "stdout",
     "output_type": "stream",
     "text": [
      "[2, 3, 4]\n",
      "[2, 3]\n"
     ]
    }
   ],
   "source": [
    "lis=[1,2,3,4,]\n",
    "lis.remove(1)\n",
    "print(lis)\n",
    "lis.pop()\n",
    "print(lis)"
   ]
  },
  {
   "cell_type": "markdown",
   "id": "dd4bd571-fceb-4f72-b889-dccec2730292",
   "metadata": {},
   "source": [
    "## Last value will be deleted automatically if no arguement is given"
   ]
  },
  {
   "cell_type": "code",
   "execution_count": 11,
   "id": "47fdefd1-ade2-44ea-888b-6d8df068d4dc",
   "metadata": {},
   "outputs": [
    {
     "name": "stdout",
     "output_type": "stream",
     "text": [
      "[1, 3, 4]\n"
     ]
    }
   ],
   "source": [
    "llis=[1,2,3,4]\n",
    "llis.pop()\n",
    "print(llis)"
   ]
  },
  {
   "cell_type": "code",
   "execution_count": 31,
   "id": "c1535aeb-731e-4d6b-8b97-09e58fec1886",
   "metadata": {},
   "outputs": [
    {
     "name": "stdout",
     "output_type": "stream",
     "text": [
      "[1, 3, 4, 5]\n"
     ]
    }
   ],
   "source": [
    "llis=[1,2,3,4,5]\n",
    "del  llis[1]\n",
    "print(llis)\n",
    "#arguement is required in del"
   ]
  },
  {
   "cell_type": "code",
   "execution_count": 18,
   "id": "d7ee3bff-0c23-4f48-98df-da60e2e827bb",
   "metadata": {},
   "outputs": [
    {
     "name": "stdout",
     "output_type": "stream",
     "text": [
      "[]\n"
     ]
    }
   ],
   "source": [
    "#.clear() is used to clear whole list\n",
    "lis=[1,2,3,4,7]\n",
    "lis.clear()\n",
    "print(lis)\n"
   ]
  },
  {
   "cell_type": "markdown",
   "id": "1bb65e46-11c4-4e9a-b873-70ff3b878f0f",
   "metadata": {},
   "source": [
    "# Sorting the list"
   ]
  },
  {
   "cell_type": "code",
   "execution_count": 20,
   "id": "59c78e44-e102-4de1-8e39-7bfd42f7f70f",
   "metadata": {},
   "outputs": [
    {
     "name": "stdout",
     "output_type": "stream",
     "text": [
      "[1, 3, 4, 5, 6]\n",
      "['apr', 'jan', 'may']\n"
     ]
    }
   ],
   "source": [
    "s=[4,3,5,6,1]\n",
    "s.sort()\n",
    "print(s)\n",
    "mon=['jan','apr','may']\n",
    "mon.sort()\n",
    "print(mon)"
   ]
  },
  {
   "cell_type": "markdown",
   "id": "eec015bb-8a23-4a22-8769-db722f1d753e",
   "metadata": {},
   "source": [
    "# Note:Words are  sorted on the basis of alphabets but beware of the case sensitive as small letters have more ascii value than capital letter"
   ]
  },
  {
   "cell_type": "code",
   "execution_count": null,
   "id": "f5c066c4-d955-4bb1-9972-d5a3eb1abcf5",
   "metadata": {},
   "outputs": [],
   "source": [
    "\n"
   ]
  },
  {
   "cell_type": "markdown",
   "id": "103fd306-1f0b-43e3-b389-2819e57d6fac",
   "metadata": {},
   "source": [
    "## Reverse the sort"
   ]
  },
  {
   "cell_type": "code",
   "execution_count": 23,
   "id": "06f265df-febc-41b5-b79f-ef1da6759b1d",
   "metadata": {},
   "outputs": [
    {
     "name": "stdout",
     "output_type": "stream",
     "text": [
      "['may', 'june', 'jan', 'dec']\n",
      "['father', 'Father']\n"
     ]
    }
   ],
   "source": [
    "mon=['jan','may','dec','june']\n",
    "mon.sort(reverse=True)\n",
    "print(mon)\n",
    "fal=['Father','father']\n",
    "fal.sort(reverse=True)\n",
    "print(fal)"
   ]
  },
  {
   "cell_type": "markdown",
   "id": "801e5c01-77bf-46be-9998-7c03a8941d82",
   "metadata": {},
   "source": [
    "## To not make it case sensitive we can use key=str.lower\n"
   ]
  },
  {
   "cell_type": "code",
   "execution_count": 25,
   "id": "4993a6a6-ee17-4e98-80c8-c39d9c1b766e",
   "metadata": {},
   "outputs": [
    {
     "name": "stdout",
     "output_type": "stream",
     "text": [
      "['Dec', 'June', 'may']\n"
     ]
    }
   ],
   "source": [
    "mon=['June','may','Dec']\n",
    "mon.sort(key=str.lower)\n",
    "print(mon)"
   ]
  },
  {
   "cell_type": "markdown",
   "id": "0d9d958a-f88d-40e5-9022-ed54fb186019",
   "metadata": {},
   "source": [
    "# Also use the .reverse() to sort it reverse"
   ]
  },
  {
   "cell_type": "code",
   "execution_count": 28,
   "id": "f60bb993-3197-4ca2-bc35-517c1f3f1b61",
   "metadata": {},
   "outputs": [
    {
     "name": "stdout",
     "output_type": "stream",
     "text": [
      "[4, 3, 2, 1]\n"
     ]
    }
   ],
   "source": [
    "re=[1,2,3,4]\n",
    "re.reverse()\n",
    "print(re)"
   ]
  },
  {
   "cell_type": "markdown",
   "id": "01f192bc-86d4-4098-9ab7-678e65932d74",
   "metadata": {},
   "source": [
    "## Copy a list in a diff variable"
   ]
  },
  {
   "cell_type": "code",
   "execution_count": 35,
   "id": "de3fd110-6d5d-41cb-8c75-5f6420bfa2ed",
   "metadata": {},
   "outputs": [
    {
     "name": "stdout",
     "output_type": "stream",
     "text": [
      "[1, 2, 3, 4, 5]\n",
      "[1, 2, 3, 4, 5]\n"
     ]
    }
   ],
   "source": [
    "listt=[1,2,3,4,5]\n",
    "copylist=listt.copy()\n",
    "print(listt)\n",
    "print(copylist)"
   ]
  },
  {
   "cell_type": "markdown",
   "id": "bc0501ea-05bc-4053-b52e-ddbe7dfc6459",
   "metadata": {},
   "source": [
    "# Join the list=list1+list2"
   ]
  },
  {
   "cell_type": "code",
   "execution_count": 39,
   "id": "f54f91cb-579d-46b9-85f5-0fb4a589f450",
   "metadata": {},
   "outputs": [
    {
     "name": "stdout",
     "output_type": "stream",
     "text": [
      "[1, 2, 3, 4, 5, 6, 7, 8]\n",
      "['Hello', 'hi', 'is', 'it', 'not', 'why', 'yes']\n"
     ]
    }
   ],
   "source": [
    "list1=[1,2,3,4]\n",
    "list2=[5,6,7,8]\n",
    "list3=list1+list2\n",
    "print(list3)\n",
    "new=['hi','Hello','it','is']\n",
    "new2=['yes','why','not']\n",
    "j=new+new2\n",
    "j.sort()\n",
    "print(j)"
   ]
  },
  {
   "cell_type": "markdown",
   "id": "cf9b94b8-e6c3-4197-ad5b-6f47d8b6d15d",
   "metadata": {},
   "source": [
    "## Extend just make a old list to be the combined list"
   ]
  },
  {
   "cell_type": "code",
   "execution_count": 42,
   "id": "add475ba-7796-4606-9015-0dcf42e0eeb2",
   "metadata": {},
   "outputs": [
    {
     "name": "stdout",
     "output_type": "stream",
     "text": [
      "[1, 2, 3, 4, 5, 6, 7, 8, 9]\n",
      "[6, 7, 8, 9]\n"
     ]
    }
   ],
   "source": [
    "list1=[1,2,3,4,5]\n",
    "list2=[6,7,8,9]\n",
    "list1.extend(list2)\n",
    "print(list1)\n",
    "print(list2)"
   ]
  },
  {
   "cell_type": "code",
   "execution_count": 45,
   "id": "80c99eff-3ec4-43ac-ac33-efa73812a2e4",
   "metadata": {},
   "outputs": [
    {
     "name": "stdin",
     "output_type": "stream",
     "text": [
      "Enter your age 88\n"
     ]
    },
    {
     "name": "stdout",
     "output_type": "stream",
     "text": [
      "88\n",
      "you are elligible to vote\n"
     ]
    }
   ],
   "source": [
    "a=input(\"Enter your age\")\n",
    "print(a)\n",
    "if int(a)>=18:\n",
    "    print(\"you are elligible to vote\")\n",
    "else:\n",
    "    print(\"you are not elligible to vote\")\n",
    "    "
   ]
  },
  {
   "cell_type": "code",
   "execution_count": 53,
   "id": "2b9936dd-6342-49a0-89af-06d2027911db",
   "metadata": {},
   "outputs": [
    {
     "name": "stdin",
     "output_type": "stream",
     "text": [
      "Enter rock,paper or scissor paper\n"
     ]
    },
    {
     "name": "stdout",
     "output_type": "stream",
     "text": [
      "You choose paper\n",
      "Computer choose paper\n",
      "You loose\n"
     ]
    }
   ],
   "source": [
    "import random\n",
    "a=input(\"Enter rock,paper or scissor\").lower()\n",
    "print('You choose ' + a)\n",
    "rps=['rock','paper','scissor']\n",
    "comchoice=random.choice(rps)\n",
    "print('Computer choose ' + comchoice)\n",
    "if a==rps:\n",
    "    print(\"Tie\")\n",
    "elif(a=='rock' and comchoice=='scissor'\n",
    "or\n",
    "a=='paper' and comchoice=='rock'\n",
    "or\n",
    "a=='scissor' and comchoice=='paper'):\n",
    "    print('YOu win ')\n",
    "else:\n",
    "    print(\"You loose\")"
   ]
  },
  {
   "cell_type": "code",
   "execution_count": null,
   "id": "9644e6d4-b841-45a2-b558-47e81f42bcae",
   "metadata": {},
   "outputs": [],
   "source": []
  }
 ],
 "metadata": {
  "kernelspec": {
   "display_name": "Python 3 (ipykernel)",
   "language": "python",
   "name": "python3"
  },
  "language_info": {
   "codemirror_mode": {
    "name": "ipython",
    "version": 3
   },
   "file_extension": ".py",
   "mimetype": "text/x-python",
   "name": "python",
   "nbconvert_exporter": "python",
   "pygments_lexer": "ipython3",
   "version": "3.11.7"
  }
 },
 "nbformat": 4,
 "nbformat_minor": 5
}

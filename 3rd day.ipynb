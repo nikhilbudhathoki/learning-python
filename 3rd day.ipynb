{
 "cells": [
  {
   "cell_type": "markdown",
   "id": "246cf30b-b403-40c7-aad4-afc4d9e4e991",
   "metadata": {},
   "source": [
    "# Python operators"
   ]
  },
  {
   "cell_type": "markdown",
   "id": "93bae51b-8475-4e70-b1c5-103bb51c94e8",
   "metadata": {},
   "source": [
    "## Airthetic operator"
   ]
  },
  {
   "cell_type": "code",
   "execution_count": 1,
   "id": "47ec0cb7-459a-48d0-aa61-54141e28129c",
   "metadata": {},
   "outputs": [
    {
     "data": {
      "text/plain": [
       "5"
      ]
     },
     "execution_count": 1,
     "metadata": {},
     "output_type": "execute_result"
    }
   ],
   "source": [
    "2+3\n"
   ]
  },
  {
   "cell_type": "code",
   "execution_count": 7,
   "id": "5c9cc193-1392-4419-bec3-2d95b931409a",
   "metadata": {},
   "outputs": [
    {
     "data": {
      "text/plain": [
       "9"
      ]
     },
     "execution_count": 7,
     "metadata": {},
     "output_type": "execute_result"
    }
   ],
   "source": [
    "3*3+2-2"
   ]
  },
  {
   "cell_type": "code",
   "execution_count": 3,
   "id": "45efdc61-6af1-49ff-83c4-08ccff53c415",
   "metadata": {},
   "outputs": [
    {
     "data": {
      "text/plain": [
       "25"
      ]
     },
     "execution_count": 3,
     "metadata": {},
     "output_type": "execute_result"
    }
   ],
   "source": [
    "5**2\n"
   ]
  },
  {
   "cell_type": "code",
   "execution_count": 4,
   "id": "56c1a669-5da9-43d8-88fb-a937b98a2532",
   "metadata": {},
   "outputs": [
    {
     "data": {
      "text/plain": [
       "2"
      ]
     },
     "execution_count": 4,
     "metadata": {},
     "output_type": "execute_result"
    }
   ],
   "source": [
    "5//2\n"
   ]
  },
  {
   "cell_type": "code",
   "execution_count": 5,
   "id": "609ba053-2594-4b90-b621-1a39362ca910",
   "metadata": {},
   "outputs": [
    {
     "data": {
      "text/plain": [
       "1"
      ]
     },
     "execution_count": 5,
     "metadata": {},
     "output_type": "execute_result"
    }
   ],
   "source": [
    "5%2\n"
   ]
  },
  {
   "cell_type": "code",
   "execution_count": 14,
   "id": "48cd514c-9e99-471c-9e60-0293d8321d56",
   "metadata": {},
   "outputs": [
    {
     "name": "stdout",
     "output_type": "stream",
     "text": [
      "x= 8.166666666666666 y= 0.16666666666666607 z= 0.00462962962962958 k= 0.00462962962962958\n"
     ]
    }
   ],
   "source": [
    "\n",
    "x=7*(3+8-4)/6\n",
    "y=(x)%2\n",
    "\n",
    "z=(y)**3\n",
    "k=z//3\n",
    "print(\"x=\",x,\"y=\",y,\"z=\",z,\"k=\",z)"
   ]
  },
  {
   "cell_type": "code",
   "execution_count": null,
   "id": "be92ea96-d510-4b3d-baaa-55cc1e2d9aec",
   "metadata": {},
   "outputs": [],
   "source": [
    "\n"
   ]
  },
  {
   "cell_type": "markdown",
   "id": "52dc24b3-4a64-4ce2-83f9-7a9f7ba52e5c",
   "metadata": {},
   "source": [
    "## Assignment operator"
   ]
  },
  {
   "cell_type": "code",
   "execution_count": 18,
   "id": "25263d2f-3e8e-44ef-bd9c-88f0a381b9e6",
   "metadata": {},
   "outputs": [
    {
     "name": "stdout",
     "output_type": "stream",
     "text": [
      "12\n",
      "9\n",
      "36\n"
     ]
    }
   ],
   "source": [
    "#assign the operator airthmetic very quickly\n",
    "x=10\n",
    "x+=2\n",
    "print(x)\n",
    "x-=3\n",
    "print(x)\n",
    "x*=4\n",
    "print(x)"
   ]
  },
  {
   "cell_type": "markdown",
   "id": "5ef130e7-d17b-4b3e-946b-233161ee26ce",
   "metadata": {},
   "source": [
    "## Assignment operator"
   ]
  },
  {
   "cell_type": "code",
   "execution_count": 19,
   "id": "9f0b5a12-bb19-42d1-abd6-fd94f4b06d8c",
   "metadata": {},
   "outputs": [
    {
     "data": {
      "text/plain": [
       "True"
      ]
     },
     "execution_count": 19,
     "metadata": {},
     "output_type": "execute_result"
    }
   ],
   "source": [
    "2==2"
   ]
  },
  {
   "cell_type": "code",
   "execution_count": 20,
   "id": "b796434a-baf9-4e2f-9563-b4efdd0a097e",
   "metadata": {},
   "outputs": [
    {
     "data": {
      "text/plain": [
       "True"
      ]
     },
     "execution_count": 20,
     "metadata": {},
     "output_type": "execute_result"
    }
   ],
   "source": [
    "2>=1"
   ]
  },
  {
   "cell_type": "code",
   "execution_count": 21,
   "id": "e0233b28-ebed-40b2-8fe1-a5bcff304812",
   "metadata": {},
   "outputs": [
    {
     "data": {
      "text/plain": [
       "True"
      ]
     },
     "execution_count": 21,
     "metadata": {},
     "output_type": "execute_result"
    }
   ],
   "source": [
    "2<=2\n"
   ]
  },
  {
   "cell_type": "code",
   "execution_count": 22,
   "id": "413a4b1f-5993-4110-8b92-68cdd2a5744e",
   "metadata": {},
   "outputs": [
    {
     "data": {
      "text/plain": [
       "True"
      ]
     },
     "execution_count": 22,
     "metadata": {},
     "output_type": "execute_result"
    }
   ],
   "source": [
    "2!=5"
   ]
  },
  {
   "cell_type": "code",
   "execution_count": 23,
   "id": "bbf21b32-2462-4ab4-a3ba-9bb42cb971fb",
   "metadata": {},
   "outputs": [
    {
     "data": {
      "text/plain": [
       "False"
      ]
     },
     "execution_count": 23,
     "metadata": {},
     "output_type": "execute_result"
    }
   ],
   "source": [
    "5<=3\n"
   ]
  },
  {
   "cell_type": "code",
   "execution_count": 24,
   "id": "c9570fdc-efd2-4587-a03c-8f1de68efd25",
   "metadata": {},
   "outputs": [],
   "source": [
    "#and is more priority than or\n"
   ]
  },
  {
   "cell_type": "code",
   "execution_count": 32,
   "id": "6f1fa38e-da4e-45c5-9645-3ddd2b70bdea",
   "metadata": {},
   "outputs": [
    {
     "data": {
      "text/plain": [
       "False"
      ]
     },
     "execution_count": 32,
     "metadata": {},
     "output_type": "execute_result"
    }
   ],
   "source": [
    "a=2\n",
    "b=3\n",
    "a>2 and b>2\n",
    "not a>1\n",
    "False and whatever\n",
    "\n",
    "#whatever is mostly 1 or 0\n",
    "False or True and not True"
   ]
  },
  {
   "cell_type": "markdown",
   "id": "a19534aa-a9b5-4873-9a52-da5f0d4f95f6",
   "metadata": {},
   "source": [
    "## Identity Operator"
   ]
  },
  {
   "cell_type": "code",
   "execution_count": 33,
   "id": "9322ccb7-c189-4db7-967b-197e035d2994",
   "metadata": {},
   "outputs": [
    {
     "data": {
      "text/plain": [
       "True"
      ]
     },
     "execution_count": 33,
     "metadata": {},
     "output_type": "execute_result"
    }
   ],
   "source": [
    "x=4\n",
    "type(x) is int"
   ]
  },
  {
   "cell_type": "code",
   "execution_count": 34,
   "id": "368945c4-8dd7-4a09-b045-930910fa9803",
   "metadata": {},
   "outputs": [
    {
     "data": {
      "text/plain": [
       "True"
      ]
     },
     "execution_count": 34,
     "metadata": {},
     "output_type": "execute_result"
    }
   ],
   "source": [
    "y=5.55\n",
    "type(y) is float"
   ]
  },
  {
   "cell_type": "code",
   "execution_count": 36,
   "id": "cf8ac78e-195f-4d18-81dc-2f062d2c14a1",
   "metadata": {},
   "outputs": [
    {
     "data": {
      "text/plain": [
       "True"
      ]
     },
     "execution_count": 36,
     "metadata": {},
     "output_type": "execute_result"
    }
   ],
   "source": [
    "z='dkjdkfjk'\n",
    "type(z) is str"
   ]
  },
  {
   "cell_type": "code",
   "execution_count": 39,
   "id": "d3b8017a-e13e-4056-a675-c3fa0c8cf200",
   "metadata": {},
   "outputs": [
    {
     "data": {
      "text/plain": [
       "True"
      ]
     },
     "execution_count": 39,
     "metadata": {},
     "output_type": "execute_result"
    }
   ],
   "source": [
    "l=[1,2,3,5,8]\n",
    "type(l) is list\n"
   ]
  },
  {
   "cell_type": "code",
   "execution_count": null,
   "id": "06750514-733d-4679-acdd-246db318f7ea",
   "metadata": {},
   "outputs": [],
   "source": [
    "m={3,4,5,6}\n",
    "type(m) is set"
   ]
  },
  {
   "cell_type": "code",
   "execution_count": null,
   "id": "36512cbe-27e1-4a20-bd78-2f7fe72e6027",
   "metadata": {},
   "outputs": [],
   "source": [
    "\n"
   ]
  },
  {
   "cell_type": "markdown",
   "id": "9bd158f1-9ed3-497a-a4e1-807efd1a8b67",
   "metadata": {},
   "source": [
    "## Membership operator"
   ]
  },
  {
   "cell_type": "markdown",
   "id": "d48a6b1a-dfa5-421c-92ec-3f415832b2fa",
   "metadata": {},
   "source": [
    "### in operator"
   ]
  },
  {
   "cell_type": "code",
   "execution_count": 41,
   "id": "15fb0354-5578-454a-941c-37f206d4811e",
   "metadata": {},
   "outputs": [
    {
     "data": {
      "text/plain": [
       "True"
      ]
     },
     "execution_count": 41,
     "metadata": {},
     "output_type": "execute_result"
    }
   ],
   "source": [
    "'h' in 'hello'"
   ]
  },
  {
   "cell_type": "code",
   "execution_count": 42,
   "id": "b1d74a38-977c-4947-a29c-1fbbd176c3c5",
   "metadata": {},
   "outputs": [
    {
     "data": {
      "text/plain": [
       "True"
      ]
     },
     "execution_count": 42,
     "metadata": {},
     "output_type": "execute_result"
    }
   ],
   "source": [
    "'ell' in 'hello'"
   ]
  },
  {
   "cell_type": "code",
   "execution_count": 43,
   "id": "bd4d9fc8-fb1f-4344-8174-48cb8545594e",
   "metadata": {},
   "outputs": [
    {
     "data": {
      "text/plain": [
       "False"
      ]
     },
     "execution_count": 43,
     "metadata": {},
     "output_type": "execute_result"
    }
   ],
   "source": [
    "'e' in 'python'"
   ]
  },
  {
   "cell_type": "code",
   "execution_count": 48,
   "id": "6dcac06a-8dc3-4bfd-851c-391f74e8631f",
   "metadata": {},
   "outputs": [
    {
     "data": {
      "text/plain": [
       "True"
      ]
     },
     "execution_count": 48,
     "metadata": {},
     "output_type": "execute_result"
    }
   ],
   "source": [
    "'yn' in 'python'\n",
    "#have to be in same order\n",
    "'on' in 'python'"
   ]
  },
  {
   "cell_type": "code",
   "execution_count": null,
   "id": "39143d90-d8f9-4491-8694-f7cdd0adf484",
   "metadata": {},
   "outputs": [],
   "source": [
    "\n"
   ]
  },
  {
   "cell_type": "markdown",
   "id": "e059f0e9-028e-43fe-b943-31e9026a16c7",
   "metadata": {},
   "source": [
    "## Bitwise operator"
   ]
  },
  {
   "cell_type": "code",
   "execution_count": 49,
   "id": "dac9f89a-c5c2-4944-8600-714791980838",
   "metadata": {},
   "outputs": [
    {
     "data": {
      "text/plain": [
       "2"
      ]
     },
     "execution_count": 49,
     "metadata": {},
     "output_type": "execute_result"
    }
   ],
   "source": [
    "2 & 3"
   ]
  },
  {
   "cell_type": "code",
   "execution_count": 50,
   "id": "1efda35a-33aa-4ab0-99c4-e60e7ee8d46e",
   "metadata": {},
   "outputs": [
    {
     "data": {
      "text/plain": [
       "1"
      ]
     },
     "execution_count": 50,
     "metadata": {},
     "output_type": "execute_result"
    }
   ],
   "source": [
    "3 & 5"
   ]
  },
  {
   "cell_type": "code",
   "execution_count": 51,
   "id": "32dcbb78-370a-4222-b065-6c6dff71b857",
   "metadata": {},
   "outputs": [
    {
     "data": {
      "text/plain": [
       "7"
      ]
     },
     "execution_count": 51,
     "metadata": {},
     "output_type": "execute_result"
    }
   ],
   "source": [
    "3 | 5"
   ]
  },
  {
   "cell_type": "code",
   "execution_count": null,
   "id": "84a562b6-e85b-4b3c-a3cf-914063a1882a",
   "metadata": {},
   "outputs": [],
   "source": [
    "\n",
    "\n",
    "\n"
   ]
  },
  {
   "cell_type": "code",
   "execution_count": null,
   "id": "b669851b-a74f-40f0-ba78-e9c72d194b76",
   "metadata": {},
   "outputs": [],
   "source": []
  },
  {
   "cell_type": "code",
   "execution_count": null,
   "id": "be402d35-5ee3-4e48-a88f-8a74a6f2b88a",
   "metadata": {},
   "outputs": [],
   "source": []
  },
  {
   "cell_type": "code",
   "execution_count": null,
   "id": "ade8a999-9b70-4878-9c93-3f38832fadb8",
   "metadata": {},
   "outputs": [],
   "source": []
  },
  {
   "cell_type": "markdown",
   "id": "069d87e0-7236-4ccf-9d1f-8cdfe8993c30",
   "metadata": {},
   "source": [
    "# Python list"
   ]
  },
  {
   "cell_type": "code",
   "execution_count": 52,
   "id": "b84414a2-3027-44fa-a68d-51f0b36b55b3",
   "metadata": {},
   "outputs": [],
   "source": [
    "#improved version of array where we can store various data type data"
   ]
  },
  {
   "cell_type": "code",
   "execution_count": 53,
   "id": "a5aeda41-4fc2-4ae3-8ef0-4c4fd385926e",
   "metadata": {},
   "outputs": [],
   "source": [
    "#but it is suggested to use similiar data type"
   ]
  },
  {
   "cell_type": "code",
   "execution_count": 56,
   "id": "ed11fa9b-6e3c-45b1-b61b-b2197e8ec40d",
   "metadata": {},
   "outputs": [
    {
     "name": "stdout",
     "output_type": "stream",
     "text": [
      "['sunday', 'monday', 'tuesday', 'wednesday', 'thursday', 'friday', 'saturday']\n"
     ]
    },
    {
     "data": {
      "text/plain": [
       "True"
      ]
     },
     "execution_count": 56,
     "metadata": {},
     "output_type": "execute_result"
    }
   ],
   "source": [
    "days_of_week=['sunday','monday','tuesday','wednesday','thursday','friday','saturday']\n",
    "print(days_of_week)\n",
    "type(days_of_week)\n",
    "'sunday' in days_of_week"
   ]
  },
  {
   "cell_type": "code",
   "execution_count": 58,
   "id": "e2f2448b-1b5f-44f5-a698-bf4bad693499",
   "metadata": {},
   "outputs": [
    {
     "data": {
      "text/plain": [
       "6"
      ]
     },
     "execution_count": 58,
     "metadata": {},
     "output_type": "execute_result"
    }
   ],
   "source": [
    "days_of_week=['sunday','monday','tuesday','wednesday','thursday','friday','saturday']\n",
    "len(days_of_week)\n",
    "len('sunday')"
   ]
  },
  {
   "cell_type": "markdown",
   "id": "73210bd0-d633-4242-92fd-29efcb222e20",
   "metadata": {},
   "source": [
    "### In len function at list members number is shown but in string number of letter is shown"
   ]
  },
  {
   "cell_type": "code",
   "execution_count": 59,
   "id": "96496b0d-1eac-49ba-b4b1-f4cd15097548",
   "metadata": {},
   "outputs": [],
   "source": [
    "mylist=[True,1,3.0]\n"
   ]
  },
  {
   "cell_type": "code",
   "execution_count": 60,
   "id": "48f66d43-f1d6-4cba-8711-d4ae821e5156",
   "metadata": {},
   "outputs": [],
   "source": [
    "#indexing is meant to access the items of lists\n",
    "#Last element is declared as -1"
   ]
  },
  {
   "cell_type": "code",
   "execution_count": 63,
   "id": "7defb495-4268-4208-9d25-a8fcc8ad9c98",
   "metadata": {},
   "outputs": [
    {
     "name": "stdout",
     "output_type": "stream",
     "text": [
      "naya\n",
      "ghar\n",
      "naya\n"
     ]
    }
   ],
   "source": [
    "new_list=['naya','bazar','ko','ghar']\n",
    "print(new_list[0])\n",
    "print(new_list[-1])\n",
    "print(new_list[-4])"
   ]
  },
  {
   "cell_type": "code",
   "execution_count": 70,
   "id": "23aa0a2b-1b79-4e82-9b63-81ead35f9df1",
   "metadata": {},
   "outputs": [
    {
     "name": "stdout",
     "output_type": "stream",
     "text": [
      "['naya', 'bazar', 'ko']\n",
      "['naya', 'ghar']\n",
      "['naya', 'bazar', 'ko', 'ghar']\n",
      "['naya', 'bazar', 'ko']\n"
     ]
    },
    {
     "data": {
      "text/plain": [
       "True"
      ]
     },
     "execution_count": 70,
     "metadata": {},
     "output_type": "execute_result"
    }
   ],
   "source": [
    "new_list=['naya','bazar','ko','ghar']\n",
    "print(new_list[0:3])#last one is excluded\n",
    "print(new_list[0:4:3])\n",
    "print(new_list[:])\n",
    "\n",
    "print(new_list[:3])\n",
    "'naya' in new_list"
   ]
  },
  {
   "cell_type": "markdown",
   "id": "ac5ae676-4e58-465c-9e42-0fb07138b555",
   "metadata": {},
   "source": [
    "## Left ko inclusive right ko exclusive [:)"
   ]
  },
  {
   "cell_type": "code",
   "execution_count": 71,
   "id": "6dd3b7ac-d7be-4040-bc8b-476e3cf0b45d",
   "metadata": {},
   "outputs": [
    {
     "name": "stdout",
     "output_type": "stream",
     "text": [
      "['lets', 'change', 'to that', 'word']\n"
     ]
    }
   ],
   "source": [
    "#changing the list items \n",
    "ch=['lets','change','this','word']\n",
    "ch[2]='to that'\n",
    "print(ch)"
   ]
  },
  {
   "cell_type": "code",
   "execution_count": 78,
   "id": "10662bcf-ece4-40ee-ab77-90148adca743",
   "metadata": {},
   "outputs": [
    {
     "name": "stdout",
     "output_type": "stream",
     "text": [
      "['sunday', 'no monday', 'no tuesday', 'no wed', 'thursday', 'friday', 'saturday']\n",
      "['sunday', 'no monday', 'no tuesday', 'thursday', 'friday', 'saturday']\n",
      "['sunday', 'no monday', 'no tuesday', 'no wed', 'new day', 'friday', 'saturday']\n"
     ]
    }
   ],
   "source": [
    "days_of_week=['sunday','monday','tuesday','wednesday','thursday','friday','saturday']\n",
    "days_of_week[1:4]=['no monday','no tuesday','no wed']\n",
    "print(days_of_week)\n",
    "days_of_week[1:4]=['no monday','no tuesday']\n",
    "print(days_of_week)\n",
    "days_of_week[1:4]=['no monday','no tuesday','no wed','new day']\n",
    "print(days_of_week)\n",
    "#if more numbers of items are entered instead of the sliced one then the next item will be changed with the last one of the new replacement\n",
    "#if less numbers of items are entered then value wont be replaced and list will shrink"
   ]
  },
  {
   "cell_type": "code",
   "execution_count": null,
   "id": "a6c5be22-589d-48a5-91fa-f3f2aa7e6198",
   "metadata": {},
   "outputs": [],
   "source": []
  },
  {
   "cell_type": "code",
   "execution_count": null,
   "id": "1a903a63-694c-4a2d-bd4a-153e8b2777f5",
   "metadata": {},
   "outputs": [],
   "source": []
  }
 ],
 "metadata": {
  "kernelspec": {
   "display_name": "Python 3 (ipykernel)",
   "language": "python",
   "name": "python3"
  },
  "language_info": {
   "codemirror_mode": {
    "name": "ipython",
    "version": 3
   },
   "file_extension": ".py",
   "mimetype": "text/x-python",
   "name": "python",
   "nbconvert_exporter": "python",
   "pygments_lexer": "ipython3",
   "version": "3.11.7"
  }
 },
 "nbformat": 4,
 "nbformat_minor": 5
}

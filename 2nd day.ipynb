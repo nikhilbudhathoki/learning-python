{
 "cells": [
  {
   "cell_type": "markdown",
   "id": "927be1c8-1f14-4b63-92dc-cb519722ec2e",
   "metadata": {},
   "source": [
    "# Python fundamental"
   ]
  },
  {
   "cell_type": "markdown",
   "id": "feeec27f-439e-4716-893a-6042ad18102c",
   "metadata": {},
   "source": [
    "## This is my first code"
   ]
  },
  {
   "cell_type": "markdown",
   "id": "a986d033-9cad-486a-ab0f-fdf1dfc8aba3",
   "metadata": {},
   "source": [
    "# new to this "
   ]
  },
  {
   "cell_type": "markdown",
   "id": "b3608a12-5bd2-4406-854f-94ae746de3dd",
   "metadata": {},
   "source": [
    "## this goes up"
   ]
  },
  {
   "cell_type": "code",
   "execution_count": null,
   "id": "a86b1d29-2b18-400c-9910-83211b0e6c11",
   "metadata": {},
   "outputs": [],
   "source": [
    "#this is printing"
   ]
  },
  {
   "cell_type": "code",
   "execution_count": 5,
   "id": "35e1a349-f159-46aa-b5ad-169c890cd107",
   "metadata": {},
   "outputs": [
    {
     "name": "stdout",
     "output_type": "stream",
     "text": [
      "Hello World!\n",
      "I love python\n"
     ]
    }
   ],
   "source": [
    "\n",
    "print('''Hello World!''')\n",
    "print(\"I love python\")"
   ]
  },
  {
   "cell_type": "code",
   "execution_count": 6,
   "id": "98c92397-ab8e-40ab-95de-f4f3f75d27f1",
   "metadata": {},
   "outputs": [],
   "source": [
    "#this is single comment"
   ]
  },
  {
   "cell_type": "markdown",
   "id": "cf6db0a6-129f-40f2-bb35-05030de7f466",
   "metadata": {},
   "source": [
    "'''This is the multuline comment\n",
    "and we are using it to print a comment of multi line in\n",
    "the  '''"
   ]
  },
  {
   "cell_type": "markdown",
   "id": "aba7da0f-022d-4fba-bc7f-9aecfc0ef9e4",
   "metadata": {},
   "source": [
    "# This is the printing of the variable"
   ]
  },
  {
   "cell_type": "code",
   "execution_count": 9,
   "id": "4f70b701-15e1-4b80-8c06-9f70562c7e21",
   "metadata": {},
   "outputs": [
    {
     "name": "stdout",
     "output_type": "stream",
     "text": [
      "x= 2\n",
      "X= 5\n"
     ]
    }
   ],
   "source": [
    "x=2\n",
    "X=5\n",
    "print(\"x=\",2)\n",
    "print(\"X=\",5)"
   ]
  },
  {
   "cell_type": "markdown",
   "id": "00fed68b-bdec-418a-97b4-70cbdd2d67c5",
   "metadata": {},
   "source": [
    "# Can be printing in this ways for strings\n"
   ]
  },
  {
   "cell_type": "code",
   "execution_count": 20,
   "id": "f7cecfe0-4e9c-44c7-9a7f-69a3250c9821",
   "metadata": {},
   "outputs": [
    {
     "name": "stdout",
     "output_type": "stream",
     "text": [
      "My name is Nikhil\n",
      "My name is Nikhil Budhathoki\n",
      "My name is Nikhil Budhathoki\n",
      "My name is  Nikhil\n"
     ]
    }
   ],
   "source": [
    "name='Nikhil'\n",
    "sur='Budhathoki'\n",
    "print(\"My name is \"+ name)\n",
    "print(\"My name is \" + name+ \" \"  + sur)\n",
    "print(f\"My name is {name} {sur}\")\n",
    "print(\"My name is \" ,name)"
   ]
  },
  {
   "cell_type": "code",
   "execution_count": 21,
   "id": "a2fc5ad1-0e7f-446f-acc0-9cf725789018",
   "metadata": {},
   "outputs": [
    {
     "ename": "SyntaxError",
     "evalue": "invalid decimal literal (4122214872.py, line 1)",
     "output_type": "error",
     "traceback": [
      "\u001b[1;36m  Cell \u001b[1;32mIn[21], line 1\u001b[1;36m\u001b[0m\n\u001b[1;33m    7name=\"nikil\"\u001b[0m\n\u001b[1;37m    ^\u001b[0m\n\u001b[1;31mSyntaxError\u001b[0m\u001b[1;31m:\u001b[0m invalid decimal literal\n"
     ]
    }
   ],
   "source": [
    "7name=\"nikil\"\n",
    "#syntax error"
   ]
  },
  {
   "cell_type": "code",
   "execution_count": 41,
   "id": "accdba12-33e5-4b7b-b378-c53bc44283fd",
   "metadata": {},
   "outputs": [
    {
     "name": "stdout",
     "output_type": "stream",
     "text": [
      "age is  25\n",
      "Country is  india\n",
      "another country is  Usa\n",
      "Names are  Nikhil , John\n",
      "<class 'str'>\n",
      "<class 'str'>\n",
      "<class 'int'>\n",
      "<class 'float'>\n",
      "<class 'list'>\n"
     ]
    }
   ],
   "source": [
    "country='Nepal'\n",
    "Country='Usa'\n",
    "country='india'\n",
    "age7=25\n",
    "name7=\"Nikhil\"\n",
    "n7ame=\"John\"\n",
    "print(\"age is \", age7)\n",
    "print(\"Country is \",country)\n",
    "print(\"another country is \",Country)\n",
    "print(\"Names are \",name7,\",\",n7ame)\n",
    "print(type(country))\n",
    "print(type(Country))\n",
    "print(type(age7))\n",
    "fl=4.333\n",
    "print(type(fl))\n",
    "l=[4,3,6,7]\n",
    "type(l)\n",
    "fruits=['age','name']\n",
    "print(type(fruits))"
   ]
  },
  {
   "cell_type": "code",
   "execution_count": 32,
   "id": "d546c6da-4ee9-4397-a055-6e40c48f6ca1",
   "metadata": {},
   "outputs": [
    {
     "name": "stdout",
     "output_type": "stream",
     "text": [
      "My name is  Nikhil Budhathoki  and I am  18 years old.\n"
     ]
    }
   ],
   "source": [
    "name=\"Nikhil Budhathoki\"\n",
    "age=18\n",
    "print(\"My name is \", name,\" and I am \",age, \"years old.\")"
   ]
  },
  {
   "cell_type": "markdown",
   "id": "c6aa23a7-9bec-452e-a3a2-0f81dd7441ea",
   "metadata": {},
   "source": [
    "# BIg brackets make a list\n",
    "Curly brakets makes set\n",
    "and tuple makes a small bracket and value cant be changed in tuples"
   ]
  },
  {
   "cell_type": "code",
   "execution_count": 33,
   "id": "9495b831-5103-4b2e-b88f-ed379bdaca12",
   "metadata": {},
   "outputs": [
    {
     "name": "stdout",
     "output_type": "stream",
     "text": [
      "range(0, 5)\n"
     ]
    }
   ],
   "source": [
    "print(range(5))"
   ]
  },
  {
   "cell_type": "markdown",
   "id": "9de2e04e-0d9e-49a3-9f10-2352568f0116",
   "metadata": {},
   "source": [
    "# Typecasting"
   ]
  },
  {
   "cell_type": "code",
   "execution_count": 47,
   "id": "f54b22ed-3f1d-4ffd-926e-8e73b71c27dd",
   "metadata": {},
   "outputs": [
    {
     "name": "stdout",
     "output_type": "stream",
     "text": [
      "2\n",
      "3.33\n",
      "4.0\n"
     ]
    }
   ],
   "source": [
    "new=int(2.44)\n",
    "print(new)\n",
    "se=str(3.33)\n",
    "print(se)\n",
    "print(float(4))"
   ]
  },
  {
   "cell_type": "code",
   "execution_count": 50,
   "id": "3d0c7cee-3ed4-43e1-9e29-506b959709e1",
   "metadata": {},
   "outputs": [
    {
     "name": "stdout",
     "output_type": "stream",
     "text": [
      "<class 'set'>\n",
      "<class 'dict'>\n"
     ]
    }
   ],
   "source": [
    "d={3,4,2,6,7}\n",
    "print(type(d))\n",
    "dis={'name':'Nikhil'}\n",
    "print(type(dis))"
   ]
  },
  {
   "cell_type": "code",
   "execution_count": 7,
   "id": "ebed111b-3f99-4364-aeb9-80542c650c23",
   "metadata": {},
   "outputs": [
    {
     "name": "stdout",
     "output_type": "stream",
     "text": [
      "Enter rock paper or scissor rock\n"
     ]
    }
   ],
   "source": [
    "import random\n",
    "a=input(\"Enter rock paper or scissor\")\n",
    "random\n"
   ]
  },
  {
   "cell_type": "code",
   "execution_count": null,
   "id": "b84739a6-b6a6-4a74-814a-80c6e6c1ea8e",
   "metadata": {},
   "outputs": [],
   "source": []
  },
  {
   "cell_type": "code",
   "execution_count": null,
   "id": "970c320b-6b1d-476c-89a8-b13844fa123b",
   "metadata": {},
   "outputs": [],
   "source": []
  }
 ],
 "metadata": {
  "kernelspec": {
   "display_name": "Python 3 (ipykernel)",
   "language": "python",
   "name": "python3"
  },
  "language_info": {
   "codemirror_mode": {
    "name": "ipython",
    "version": 3
   },
   "file_extension": ".py",
   "mimetype": "text/x-python",
   "name": "python",
   "nbconvert_exporter": "python",
   "pygments_lexer": "ipython3",
   "version": "3.11.7"
  }
 },
 "nbformat": 4,
 "nbformat_minor": 5
}

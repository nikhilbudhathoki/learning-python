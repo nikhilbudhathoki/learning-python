{
 "cells": [
  {
   "cell_type": "markdown",
   "id": "181de310-b718-47b6-b7a5-b031dfecd32c",
   "metadata": {},
   "source": [
    "# Tuples in python"
   ]
  },
  {
   "cell_type": "markdown",
   "id": "4053122d-f803-416f-aa36-1f4995b47e1d",
   "metadata": {},
   "source": [
    "## Tuples are not mutable or we cant change the member of the tuples and starts with ()"
   ]
  },
  {
   "cell_type": "code",
   "execution_count": 4,
   "id": "b30928cb-0b16-411d-94ab-a1706daba5d4",
   "metadata": {},
   "outputs": [
    {
     "name": "stdout",
     "output_type": "stream",
     "text": [
      "<class 'tuple'>\n"
     ]
    },
    {
     "ename": "TypeError",
     "evalue": "'tuple' object does not support item assignment",
     "output_type": "error",
     "traceback": [
      "\u001b[1;31m---------------------------------------------------------------------------\u001b[0m",
      "\u001b[1;31mTypeError\u001b[0m                                 Traceback (most recent call last)",
      "Cell \u001b[1;32mIn[4], line 3\u001b[0m\n\u001b[0;32m      1\u001b[0m tup\u001b[38;5;241m=\u001b[39m(\u001b[38;5;124m'\u001b[39m\u001b[38;5;124mram\u001b[39m\u001b[38;5;124m'\u001b[39m,\u001b[38;5;124m'\u001b[39m\u001b[38;5;124msam\u001b[39m\u001b[38;5;124m'\u001b[39m,\u001b[38;5;124m'\u001b[39m\u001b[38;5;124mjaro\u001b[39m\u001b[38;5;124m'\u001b[39m)\n\u001b[0;32m      2\u001b[0m \u001b[38;5;28mprint\u001b[39m(\u001b[38;5;28mtype\u001b[39m(tup))\n\u001b[1;32m----> 3\u001b[0m tup[\u001b[38;5;241m0\u001b[39m]\u001b[38;5;241m=\u001b[39m\u001b[38;5;124m'\u001b[39m\u001b[38;5;124mvari\u001b[39m\u001b[38;5;124m'\u001b[39m\n",
      "\u001b[1;31mTypeError\u001b[0m: 'tuple' object does not support item assignment"
     ]
    }
   ],
   "source": [
    "tup=('ram','sam','jaro')\n",
    "print(type(tup))\n",
    "tup[0]='vari'\n"
   ]
  },
  {
   "cell_type": "code",
   "execution_count": 2,
   "id": "932e4181-9a44-498b-8937-ab1ff9e00541",
   "metadata": {},
   "outputs": [
    {
     "name": "stdout",
     "output_type": "stream",
     "text": [
      "ram\n"
     ]
    }
   ],
   "source": [
    "#we can acccess all members like list\n",
    "print(tup[0])"
   ]
  },
  {
   "cell_type": "code",
   "execution_count": 3,
   "id": "2f6e2b2b-af48-4066-905b-8fa3baa2e5f7",
   "metadata": {},
   "outputs": [
    {
     "name": "stdout",
     "output_type": "stream",
     "text": [
      "ram\n"
     ]
    }
   ],
   "source": [
    "print(tup[-3])"
   ]
  },
  {
   "cell_type": "code",
   "execution_count": 22,
   "id": "d47f94ed-4ad8-48ff-bd48-6988b69a301b",
   "metadata": {},
   "outputs": [
    {
     "ename": "TypeError",
     "evalue": "'tuple' object is not callable",
     "output_type": "error",
     "traceback": [
      "\u001b[1;31m---------------------------------------------------------------------------\u001b[0m",
      "\u001b[1;31mTypeError\u001b[0m                                 Traceback (most recent call last)",
      "Cell \u001b[1;32mIn[22], line 6\u001b[0m\n\u001b[0;32m      3\u001b[0m     \u001b[38;5;28;01mreturn\u001b[39;00m tup[l]\n\u001b[0;32m      5\u001b[0m tup\u001b[38;5;241m=\u001b[39m(\u001b[38;5;241m1\u001b[39m,\u001b[38;5;241m2\u001b[39m,\u001b[38;5;241m3\u001b[39m,\u001b[38;5;241m4\u001b[39m)\n\u001b[1;32m----> 6\u001b[0m tup(\u001b[38;5;241m4\u001b[39m)\n",
      "\u001b[1;31mTypeError\u001b[0m: 'tuple' object is not callable"
     ]
    }
   ],
   "source": [
    "\n",
    "def tup(l):\n",
    "   \n",
    "    return tup[l]\n",
    "\n",
    "tup=(1,2,3,4)\n",
    "tup(4)\n"
   ]
  },
  {
   "cell_type": "markdown",
   "id": "c294be78-a224-406a-960d-289d3522e593",
   "metadata": {},
   "source": [
    "## if only one element is given it considered as the datatype of the element\n"
   ]
  },
  {
   "cell_type": "code",
   "execution_count": 16,
   "id": "73c08184-6c37-43a2-9919-8b431fcd09b7",
   "metadata": {},
   "outputs": [
    {
     "name": "stdout",
     "output_type": "stream",
     "text": [
      "<class 'str'>\n",
      "<class 'tuple'>\n"
     ]
    }
   ],
   "source": [
    "tup1=('kdf')\n",
    "print(type(tup1))\n",
    "tup1=(1,)#if comma is given it is tuple nnow\n",
    "print(type(tup1))"
   ]
  },
  {
   "cell_type": "code",
   "execution_count": 17,
   "id": "6c4621d8-d480-4c46-9c3e-25c03761964a",
   "metadata": {},
   "outputs": [],
   "source": [
    "my_tuple=('hello','world',1,9.2)"
   ]
  },
  {
   "cell_type": "code",
   "execution_count": 21,
   "id": "36751bfe-e779-4f06-b910-cd999b7eacbc",
   "metadata": {},
   "outputs": [
    {
     "name": "stdout",
     "output_type": "stream",
     "text": [
      "my_tuple[0] is  hello\n",
      "my_tuple[-1] is  9.2\n",
      "my_tuple[1:3] is  ('world', 1)\n",
      "my_tuple[-3:-1] is  ('world', 1)\n",
      "my_tuple[:2] is  ('hello', 'world')\n",
      "my_tuple[2:] is  (1, 9.2)\n"
     ]
    }
   ],
   "source": [
    "print(\"my_tuple[0] is \",my_tuple[0])\n",
    "print(\"my_tuple[-1] is \",my_tuple[-1])\n",
    "print(\"my_tuple[1:3] is \",my_tuple[1:3])\n",
    "print(\"my_tuple[-3:-1] is \",my_tuple[-3:-1])\n",
    "print(\"my_tuple[:2] is \",my_tuple[:2])\n",
    "print(\"my_tuple[2:] is \",my_tuple[2:])"
   ]
  },
  {
   "cell_type": "code",
   "execution_count": 25,
   "id": "c0427068-de6c-439d-83ef-fca9a5e0959a",
   "metadata": {},
   "outputs": [
    {
     "ename": "SyntaxError",
     "evalue": "cannot assign to expression here. Maybe you meant '==' instead of '='? (3747216354.py, line 1)",
     "output_type": "error",
     "traceback": [
      "\u001b[1;36m  Cell \u001b[1;32mIn[25], line 1\u001b[1;36m\u001b[0m\n\u001b[1;33m    my-tuple[0]='hi'\u001b[0m\n\u001b[1;37m    ^\u001b[0m\n\u001b[1;31mSyntaxError\u001b[0m\u001b[1;31m:\u001b[0m cannot assign to expression here. Maybe you meant '==' instead of '='?\n"
     ]
    }
   ],
   "source": [
    "my-tuple[0]='hi'"
   ]
  },
  {
   "cell_type": "markdown",
   "id": "06cc4b68-301b-425e-bf07-143070093e28",
   "metadata": {},
   "source": [
    "## We can delete the tuple"
   ]
  },
  {
   "cell_type": "code",
   "execution_count": 26,
   "id": "2a4954d7-b343-4303-afde-76d450f2d558",
   "metadata": {},
   "outputs": [],
   "source": [
    "del my_tuple"
   ]
  },
  {
   "cell_type": "markdown",
   "id": "30f5f392-c890-454b-8301-ba25d9d28e54",
   "metadata": {},
   "source": [
    "## WE can unpack tuple by giving it variable for each member"
   ]
  },
  {
   "cell_type": "code",
   "execution_count": 30,
   "id": "31265143-9b1d-4477-be8f-69e314258f75",
   "metadata": {},
   "outputs": [
    {
     "name": "stdout",
     "output_type": "stream",
     "text": [
      "nick\n"
     ]
    }
   ],
   "source": [
    "student1,student2,student2=('nick','rahul','raj')\n",
    "print(student1)"
   ]
  },
  {
   "cell_type": "code",
   "execution_count": 31,
   "id": "cfc086c0-55e4-4284-bfa2-b749fe3726e3",
   "metadata": {},
   "outputs": [
    {
     "name": "stdout",
     "output_type": "stream",
     "text": [
      "1\n",
      "2\n",
      "3\n",
      "hello\n",
      "world\n"
     ]
    }
   ],
   "source": [
    "jpt=(1,2,3,'hello','world')\n",
    "for item in jpt:\n",
    "    print(item)\n"
   ]
  },
  {
   "cell_type": "code",
   "execution_count": 33,
   "id": "edaeb254-43a1-4c59-97c0-7ebcd9cdbe88",
   "metadata": {},
   "outputs": [
    {
     "name": "stdout",
     "output_type": "stream",
     "text": [
      "1\n",
      "2\n",
      "3\n",
      "4\n"
     ]
    }
   ],
   "source": [
    "def print_tup(tup):\n",
    "    for s in tup:\n",
    "        print(s)\n",
    "\n",
    "my_tuple=(1,2,3,4)\n",
    "print_tup(my_tuple)"
   ]
  },
  {
   "cell_type": "markdown",
   "id": "edc97f51-f2bd-41d8-8f44-f705345fc541",
   "metadata": {},
   "source": [
    "## Add and multiplyy the tuple"
   ]
  },
  {
   "cell_type": "code",
   "execution_count": 35,
   "id": "e4fb6cff-30a6-452e-bec7-6a84d8c2b53d",
   "metadata": {},
   "outputs": [
    {
     "name": "stdout",
     "output_type": "stream",
     "text": [
      "(1, 2, 3, 4, 'ram', 'sam')\n"
     ]
    }
   ],
   "source": [
    "a=(1,2,3,4)\n",
    "b=('ram','sam')\n",
    "print(a+b)"
   ]
  },
  {
   "cell_type": "code",
   "execution_count": 42,
   "id": "2c2e0267-9ad0-4f26-a4d7-27f80f3af8fe",
   "metadata": {},
   "outputs": [
    {
     "name": "stdout",
     "output_type": "stream",
     "text": [
      "(1, 2, 3, 4, 1, 2, 3, 4, 1, 2, 3, 4)\n",
      "['ram', 'sam', 'ram', 'sam', 'ram', 'sam']\n"
     ]
    }
   ],
   "source": [
    "print(a*3)#cant multiply tuple with tuple but multiply with a constant\n",
    "lis=['ram','sam']\n",
    "print(lis*3)#same for the list\n"
   ]
  },
  {
   "cell_type": "markdown",
   "id": "ddc6f808-0947-4fbc-b152-e7c0d35f2cc8",
   "metadata": {},
   "source": [
    "## Not -,/,in the tuple"
   ]
  },
  {
   "cell_type": "code",
   "execution_count": 46,
   "id": "8ed4bba5-aa17-4748-a836-9ac0c5ba57f0",
   "metadata": {},
   "outputs": [
    {
     "name": "stdout",
     "output_type": "stream",
     "text": [
      "ram\n",
      "sam\n"
     ]
    }
   ],
   "source": [
    "def mylist(lisin):\n",
    "    for m in lisin:\n",
    "        print(m)\n",
    "mylist(lis)"
   ]
  },
  {
   "cell_type": "code",
   "execution_count": null,
   "id": "b8f891ac-1a70-405a-a4ea-ce7cc33a3fb3",
   "metadata": {},
   "outputs": [],
   "source": [
    "\n",
    "\n"
   ]
  },
  {
   "cell_type": "code",
   "execution_count": null,
   "id": "cafee43c-0082-4c7a-be0f-c0b3eb9d871a",
   "metadata": {},
   "outputs": [],
   "source": []
  },
  {
   "cell_type": "markdown",
   "id": "6473a080-5b52-46e3-94f1-f1e76d696876",
   "metadata": {},
   "source": [
    "# Sets in python"
   ]
  },
  {
   "cell_type": "markdown",
   "id": "8c4d0be5-ef6c-4c6d-8b1a-649648947fe0",
   "metadata": {},
   "source": [
    "### It is unordered and used {} brakets"
   ]
  },
  {
   "cell_type": "code",
   "execution_count": 47,
   "id": "db460e00-19be-4df6-aee4-067786a3c96e",
   "metadata": {},
   "outputs": [
    {
     "name": "stdout",
     "output_type": "stream",
     "text": [
      "{'Hi', 5.6, 1}\n"
     ]
    }
   ],
   "source": [
    "new={1,5.6,'Hi',True}\n",
    "print(new)#No duplicate data is stored and remove one \n",
    "#1 and True are same"
   ]
  },
  {
   "cell_type": "code",
   "execution_count": 48,
   "id": "dc71ae2d-ea26-48b4-8603-844c36324da3",
   "metadata": {},
   "outputs": [
    {
     "name": "stdout",
     "output_type": "stream",
     "text": [
      "Hi\n",
      "5.6\n",
      "1\n"
     ]
    }
   ],
   "source": [
    "for m in new:\n",
    "    print(m)"
   ]
  },
  {
   "cell_type": "code",
   "execution_count": 49,
   "id": "28935356-3b67-442e-9227-a92f4f2454d6",
   "metadata": {},
   "outputs": [
    {
     "data": {
      "text/plain": [
       "False"
      ]
     },
     "execution_count": 49,
     "metadata": {},
     "output_type": "execute_result"
    }
   ],
   "source": [
    "#check if particular object is member or not \n",
    "'hi' in new"
   ]
  },
  {
   "cell_type": "code",
   "execution_count": 50,
   "id": "eb31ecc3-2c2d-41fe-a579-70b71a0fa19f",
   "metadata": {},
   "outputs": [
    {
     "name": "stdout",
     "output_type": "stream",
     "text": [
      "Hi\n",
      "5.6\n",
      "1\n"
     ]
    }
   ],
   "source": [
    "def my(new):\n",
    "    for m in new:\n",
    "        print(m)\n",
    "my(new)"
   ]
  },
  {
   "cell_type": "code",
   "execution_count": 61,
   "id": "f5071d44-46c2-42e9-8077-3237485041fa",
   "metadata": {},
   "outputs": [
    {
     "name": "stdout",
     "output_type": "stream",
     "text": [
      "{'Hi', 1, 2, 'nana', 5.6, 5, 'e', 'l', 'Hello', '1', 'H', 'o'}\n",
      "{'Hi', 1, 2, 'nana', 5.6, 5, 'e', 'l', 'Hello', '1', 'H', 'o'}\n"
     ]
    }
   ],
   "source": [
    "# elements are added by using .add and .update\n",
    "new.add('nana')\n",
    "print(new)\n",
    "print(new)"
   ]
  },
  {
   "cell_type": "code",
   "execution_count": null,
   "id": "54af44b2-558f-4dbc-b314-836855c89bbc",
   "metadata": {},
   "outputs": [],
   "source": []
  },
  {
   "cell_type": "code",
   "execution_count": 62,
   "id": "a9e6b4ec-7dcc-42e9-b14e-c6c5918edaf9",
   "metadata": {},
   "outputs": [
    {
     "name": "stdout",
     "output_type": "stream",
     "text": [
      "{'Hi', 1, 2, 'nana', 5.6, 5, 'e', 'l', 'Hello', '1', 'H', 'o'}\n"
     ]
    }
   ],
   "source": [
    "set2={2,5}\n",
    "new.update(set2)\n",
    "print(new)"
   ]
  },
  {
   "cell_type": "code",
   "execution_count": null,
   "id": "e44421f2-0d23-4202-b170-7277391f5fbc",
   "metadata": {},
   "outputs": [],
   "source": []
  },
  {
   "cell_type": "code",
   "execution_count": null,
   "id": "45bbf336-9b01-42dd-97de-77bfc9e3470a",
   "metadata": {},
   "outputs": [],
   "source": []
  },
  {
   "cell_type": "code",
   "execution_count": null,
   "id": "0d7fda7d-9070-4527-b143-fd6776c41020",
   "metadata": {},
   "outputs": [],
   "source": []
  },
  {
   "cell_type": "code",
   "execution_count": 68,
   "id": "3450b175-87e4-4e5a-b712-851655127ef2",
   "metadata": {},
   "outputs": [
    {
     "name": "stdout",
     "output_type": "stream",
     "text": [
      "{'Dang': 3, 'ktm': 6, 'pokhara': 5}\n",
      "Dang\n",
      "ktm\n",
      "pokhara\n"
     ]
    }
   ],
   "source": [
    "set={1:'apple',2:'ball'}\n",
    "city={\n",
    "    \"Dang\":3,\n",
    "    \"ktm\":6,\n",
    "    \"pokhara\":5\n",
    "}\n",
    "print(city)\n",
    "def pr(c):\n",
    "    for s in c:\n",
    "        print(s)\n",
    "pr(city)"
   ]
  },
  {
   "cell_type": "code",
   "execution_count": 70,
   "id": "0a2a6680-a0c2-417b-9c8a-54cb30bc6064",
   "metadata": {},
   "outputs": [
    {
     "name": "stdout",
     "output_type": "stream",
     "text": [
      "3\n"
     ]
    }
   ],
   "source": [
    "print(city['Dang'])#gives the value when its key is given as index\n"
   ]
  },
  {
   "cell_type": "markdown",
   "id": "a7fb5790-1960-44bc-ba9e-3dd2a2c88735",
   "metadata": {},
   "source": [
    "# We can print only keys and values by .keys and .values"
   ]
  },
  {
   "cell_type": "code",
   "execution_count": 73,
   "id": "d0b332e2-3235-4c47-958b-0bf75ee8d7b0",
   "metadata": {},
   "outputs": [
    {
     "name": "stdout",
     "output_type": "stream",
     "text": [
      "dict_keys(['Dang', 'ktm', 'pokhara'])\n"
     ]
    }
   ],
   "source": [
    "print(city.keys())"
   ]
  },
  {
   "cell_type": "code",
   "execution_count": 74,
   "id": "8cf895b0-de7f-4482-924d-24b9b6486ccc",
   "metadata": {},
   "outputs": [
    {
     "name": "stdout",
     "output_type": "stream",
     "text": [
      "dict_values([3, 6, 5])\n"
     ]
    }
   ],
   "source": [
    "print(city.values())"
   ]
  },
  {
   "cell_type": "code",
   "execution_count": 98,
   "id": "d1dd1188-387d-4367-a341-fdd11bf503ac",
   "metadata": {},
   "outputs": [
    {
     "data": {
      "text/plain": [
       "(dict_values(['ram', 'sam']), dict_keys([1, 2]))"
      ]
     },
     "execution_count": 98,
     "metadata": {},
     "output_type": "execute_result"
    }
   ],
   "source": [
    "set={1:'ram',2:'sam'}\n",
    "def fun(dic):\n",
    "    for s in dic:\n",
    "      #return  dic.keys()\n",
    "      return  dic.values(),dic.keys()\n",
    "\n",
    "    \n",
    "fun(set)"
   ]
  },
  {
   "cell_type": "code",
   "execution_count": 93,
   "id": "c09ec730-2534-4e76-9376-97cd8eab5db2",
   "metadata": {},
   "outputs": [
    {
     "name": "stdout",
     "output_type": "stream",
     "text": [
      "{}\n"
     ]
    }
   ],
   "source": [
    "#delete alll dictonary \n",
    "city.clear()\n",
    "print(city)"
   ]
  },
  {
   "cell_type": "code",
   "execution_count": null,
   "id": "913e3e77-3ec7-4519-a5dc-7b2eb7bf1cba",
   "metadata": {},
   "outputs": [],
   "source": []
  }
 ],
 "metadata": {
  "kernelspec": {
   "display_name": "Python 3 (ipykernel)",
   "language": "python",
   "name": "python3"
  },
  "language_info": {
   "codemirror_mode": {
    "name": "ipython",
    "version": 3
   },
   "file_extension": ".py",
   "mimetype": "text/x-python",
   "name": "python",
   "nbconvert_exporter": "python",
   "pygments_lexer": "ipython3",
   "version": "3.11.7"
  }
 },
 "nbformat": 4,
 "nbformat_minor": 5
}
